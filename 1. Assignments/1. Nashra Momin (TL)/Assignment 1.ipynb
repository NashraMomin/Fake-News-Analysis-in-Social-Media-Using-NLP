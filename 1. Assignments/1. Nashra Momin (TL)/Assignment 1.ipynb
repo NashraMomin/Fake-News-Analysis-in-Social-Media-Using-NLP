{
  "nbformat": 4,
  "nbformat_minor": 0,
  "metadata": {
    "colab": {
      "provenance": [],
      "gpuType": "T4"
    },
    "kernelspec": {
      "name": "python3",
      "display_name": "Python 3"
    },
    "language_info": {
      "name": "python"
    },
    "accelerator": "GPU"
  },
  "cells": [
    {
      "cell_type": "code",
      "source": [
        "#Assignment 1"
      ],
      "metadata": {
        "id": "QXvPTAf-QOJ1"
      },
      "execution_count": null,
      "outputs": []
    },
    {
      "cell_type": "code",
      "source": [
        "# Implement a basic ANN from scratch using TensorFlow (Two dense layer and one activation layer) . Train the network on the CIFAR-10 dataset and evaluate the model's performance."
      ],
      "metadata": {
        "id": "ywl1rIohYigc"
      },
      "execution_count": null,
      "outputs": []
    },
    {
      "cell_type": "code",
      "execution_count": null,
      "metadata": {
        "id": "gfRGf8aMOk7M"
      },
      "outputs": [],
      "source": [
        "import tensorflow as tf\n",
        "from tensorflow.keras import layers, models\n",
        "from tensorflow.keras.datasets import cifar10\n",
        "from tensorflow.keras.utils import to_categorical"
      ]
    },
    {
      "cell_type": "code",
      "source": [
        "(ann_train_images, ann_train_labels), (ann_test_images, ann_test_labels) = cifar10.load_data()"
      ],
      "metadata": {
        "id": "PX2QzjBvQSWO"
      },
      "execution_count": null,
      "outputs": []
    },
    {
      "cell_type": "code",
      "source": [
        "ann_train_images = ann_train_images.astype('float32') / 255.0\n",
        "ann_test_images = ann_test_images.astype('float32') / 255.0"
      ],
      "metadata": {
        "id": "-57ogW89R7MG"
      },
      "execution_count": null,
      "outputs": []
    },
    {
      "cell_type": "code",
      "source": [
        "ann_train_labels = to_categorical(ann_train_labels, 10)\n",
        "ann_test_labels = to_categorical(ann_test_labels, 10)"
      ],
      "metadata": {
        "id": "xtXArABpSoaC"
      },
      "execution_count": null,
      "outputs": []
    },
    {
      "cell_type": "code",
      "source": [
        "ann_model = models.Sequential()"
      ],
      "metadata": {
        "id": "n3ek9Q1CS0Kq"
      },
      "execution_count": null,
      "outputs": []
    },
    {
      "cell_type": "code",
      "source": [
        "ann_model.add(layers.Flatten(input_shape=(32, 32, 3)))\n",
        "ann_model.add(layers.Dense(512, activation='relu'))"
      ],
      "metadata": {
        "colab": {
          "base_uri": "https://localhost:8080/"
        },
        "id": "8TDKZW8US6K6",
        "outputId": "00516cf0-64e4-4834-9073-64eeed80f856"
      },
      "execution_count": null,
      "outputs": [
        {
          "output_type": "stream",
          "name": "stderr",
          "text": [
            "/usr/local/lib/python3.10/dist-packages/keras/src/layers/reshaping/flatten.py:37: UserWarning: Do not pass an `input_shape`/`input_dim` argument to a layer. When using Sequential models, prefer using an `Input(shape)` object as the first layer in the model instead.\n",
            "  super().__init__(**kwargs)\n"
          ]
        }
      ]
    },
    {
      "cell_type": "code",
      "source": [
        "ann_model.add(layers.Dense(256, activation='relu'))"
      ],
      "metadata": {
        "id": "Jzzy8ZmcTG1M"
      },
      "execution_count": null,
      "outputs": []
    },
    {
      "cell_type": "code",
      "source": [
        "ann_model.add(layers.Dense(10, activation='softmax'))"
      ],
      "metadata": {
        "id": "DMJlhKCTTPW9"
      },
      "execution_count": null,
      "outputs": []
    },
    {
      "cell_type": "code",
      "source": [
        "ann_model.compile(optimizer='adam',\n",
        "              loss='categorical_crossentropy',\n",
        "              metrics=['accuracy'])"
      ],
      "metadata": {
        "id": "UcEHfSzeTSQ6"
      },
      "execution_count": null,
      "outputs": []
    },
    {
      "cell_type": "code",
      "source": [
        "ann_result = ann_model.fit(ann_train_images, ann_train_labels, epochs=10, batch_size=64,\n",
        "                    validation_data=(ann_test_images, ann_test_labels))"
      ],
      "metadata": {
        "colab": {
          "base_uri": "https://localhost:8080/"
        },
        "id": "8mbG8joOTizi",
        "outputId": "2e205821-1d3c-49f1-c9d2-808e49f11bdc"
      },
      "execution_count": null,
      "outputs": [
        {
          "output_type": "stream",
          "name": "stdout",
          "text": [
            "Epoch 1/10\n",
            "\u001b[1m782/782\u001b[0m \u001b[32m━━━━━━━━━━━━━━━━━━━━\u001b[0m\u001b[37m\u001b[0m \u001b[1m3s\u001b[0m 3ms/step - accuracy: 0.5196 - loss: 1.3487 - val_accuracy: 0.5027 - val_loss: 1.4102\n",
            "Epoch 2/10\n",
            "\u001b[1m782/782\u001b[0m \u001b[32m━━━━━━━━━━━━━━━━━━━━\u001b[0m\u001b[37m\u001b[0m \u001b[1m2s\u001b[0m 3ms/step - accuracy: 0.5319 - loss: 1.3028 - val_accuracy: 0.4943 - val_loss: 1.4383\n",
            "Epoch 3/10\n",
            "\u001b[1m782/782\u001b[0m \u001b[32m━━━━━━━━━━━━━━━━━━━━\u001b[0m\u001b[37m\u001b[0m \u001b[1m2s\u001b[0m 3ms/step - accuracy: 0.5374 - loss: 1.3011 - val_accuracy: 0.4909 - val_loss: 1.4486\n",
            "Epoch 4/10\n",
            "\u001b[1m782/782\u001b[0m \u001b[32m━━━━━━━━━━━━━━━━━━━━\u001b[0m\u001b[37m\u001b[0m \u001b[1m3s\u001b[0m 3ms/step - accuracy: 0.5415 - loss: 1.2729 - val_accuracy: 0.4985 - val_loss: 1.4319\n",
            "Epoch 5/10\n",
            "\u001b[1m782/782\u001b[0m \u001b[32m━━━━━━━━━━━━━━━━━━━━\u001b[0m\u001b[37m\u001b[0m \u001b[1m2s\u001b[0m 3ms/step - accuracy: 0.5490 - loss: 1.2678 - val_accuracy: 0.5131 - val_loss: 1.3919\n",
            "Epoch 6/10\n",
            "\u001b[1m782/782\u001b[0m \u001b[32m━━━━━━━━━━━━━━━━━━━━\u001b[0m\u001b[37m\u001b[0m \u001b[1m3s\u001b[0m 3ms/step - accuracy: 0.5554 - loss: 1.2438 - val_accuracy: 0.5148 - val_loss: 1.3981\n",
            "Epoch 7/10\n",
            "\u001b[1m782/782\u001b[0m \u001b[32m━━━━━━━━━━━━━━━━━━━━\u001b[0m\u001b[37m\u001b[0m \u001b[1m4s\u001b[0m 2ms/step - accuracy: 0.5602 - loss: 1.2308 - val_accuracy: 0.4921 - val_loss: 1.4399\n",
            "Epoch 8/10\n",
            "\u001b[1m782/782\u001b[0m \u001b[32m━━━━━━━━━━━━━━━━━━━━\u001b[0m\u001b[37m\u001b[0m \u001b[1m3s\u001b[0m 2ms/step - accuracy: 0.5630 - loss: 1.2154 - val_accuracy: 0.5122 - val_loss: 1.3908\n",
            "Epoch 9/10\n",
            "\u001b[1m782/782\u001b[0m \u001b[32m━━━━━━━━━━━━━━━━━━━━\u001b[0m\u001b[37m\u001b[0m \u001b[1m3s\u001b[0m 3ms/step - accuracy: 0.5755 - loss: 1.1873 - val_accuracy: 0.5077 - val_loss: 1.4217\n",
            "Epoch 10/10\n",
            "\u001b[1m782/782\u001b[0m \u001b[32m━━━━━━━━━━━━━━━━━━━━\u001b[0m\u001b[37m\u001b[0m \u001b[1m2s\u001b[0m 3ms/step - accuracy: 0.5731 - loss: 1.1977 - val_accuracy: 0.4942 - val_loss: 1.4731\n"
          ]
        }
      ]
    },
    {
      "cell_type": "code",
      "source": [
        "ann_test_loss, ann_test_acc = ann_model.evaluate(ann_test_images, ann_test_labels)\n",
        "print(f'Test accuracy: {ann_test_acc*100:.2f}%')"
      ],
      "metadata": {
        "colab": {
          "base_uri": "https://localhost:8080/"
        },
        "id": "NIJd0smmTjfK",
        "outputId": "b1ff0f48-994e-4d76-945a-28f5c8b2e778"
      },
      "execution_count": null,
      "outputs": [
        {
          "output_type": "stream",
          "name": "stdout",
          "text": [
            "\u001b[1m313/313\u001b[0m \u001b[32m━━━━━━━━━━━━━━━━━━━━\u001b[0m\u001b[37m\u001b[0m \u001b[1m0s\u001b[0m 1ms/step - accuracy: 0.5028 - loss: 1.4109\n",
            "Test accuracy: 50.32%\n"
          ]
        }
      ]
    },
    {
      "cell_type": "code",
      "source": [
        " #Construct Convolutional Neural Network to classify images from the CIFAR-10 dataset"
      ],
      "metadata": {
        "id": "6QDoJEBCVMlN"
      },
      "execution_count": null,
      "outputs": []
    },
    {
      "cell_type": "code",
      "source": [
        "import matplotlib.pyplot as plt"
      ],
      "metadata": {
        "id": "YC5BLiY2h6fM"
      },
      "execution_count": null,
      "outputs": []
    },
    {
      "cell_type": "code",
      "source": [
        "(cnn_train_images, cnn_train_labels), (cnn_test_images, cnn_test_labels) = cifar10.load_data()"
      ],
      "metadata": {
        "id": "l8P_rnf2VgZb"
      },
      "execution_count": null,
      "outputs": []
    },
    {
      "cell_type": "code",
      "source": [
        "cnn_train_images = cnn_train_images.astype('float32') / 255.0\n",
        "cnn_test_images = cnn_test_images.astype('float32') / 255.0"
      ],
      "metadata": {
        "id": "KMJHXg_tVy_6"
      },
      "execution_count": null,
      "outputs": []
    },
    {
      "cell_type": "code",
      "source": [
        "cnn_train_labels = to_categorical(cnn_train_labels, 10)\n",
        "cnn_test_labels = to_categorical(cnn_test_labels, 10)"
      ],
      "metadata": {
        "id": "NS7KiP4NV88U"
      },
      "execution_count": null,
      "outputs": []
    },
    {
      "cell_type": "code",
      "source": [
        "cnn_model = models.Sequential()"
      ],
      "metadata": {
        "id": "nK5o0obxWRRi"
      },
      "execution_count": null,
      "outputs": []
    },
    {
      "cell_type": "code",
      "source": [
        "cnn_model.add(layers.Conv2D(32, (3, 3), activation='relu', input_shape=(32, 32, 3)))\n",
        "cnn_model.add(layers.MaxPooling2D(pool_size=(2, 2)))"
      ],
      "metadata": {
        "colab": {
          "base_uri": "https://localhost:8080/"
        },
        "id": "E1UH5JKKWZFW",
        "outputId": "f4890c53-5261-43fb-e4d5-93cb84796a1f"
      },
      "execution_count": null,
      "outputs": [
        {
          "output_type": "stream",
          "name": "stderr",
          "text": [
            "/usr/local/lib/python3.10/dist-packages/keras/src/layers/convolutional/base_conv.py:107: UserWarning: Do not pass an `input_shape`/`input_dim` argument to a layer. When using Sequential models, prefer using an `Input(shape)` object as the first layer in the model instead.\n",
            "  super().__init__(activity_regularizer=activity_regularizer, **kwargs)\n"
          ]
        }
      ]
    },
    {
      "cell_type": "code",
      "source": [
        "cnn_model.add(layers.Conv2D(64, (3, 3), activation='relu'))\n",
        "cnn_model.add(layers.MaxPooling2D(pool_size=(2, 2)))"
      ],
      "metadata": {
        "id": "ucFMsy2QWqxa"
      },
      "execution_count": null,
      "outputs": []
    },
    {
      "cell_type": "code",
      "source": [
        "cnn_model.add(layers.Conv2D(128, (3, 3), activation='relu'))\n",
        "cnn_model.add(layers.MaxPooling2D(pool_size=(2, 2)))"
      ],
      "metadata": {
        "id": "2GwWrlvXW-rX"
      },
      "execution_count": null,
      "outputs": []
    },
    {
      "cell_type": "code",
      "source": [
        "cnn_model.add(layers.Flatten())"
      ],
      "metadata": {
        "id": "pyIOmjbOXG0L"
      },
      "execution_count": null,
      "outputs": []
    },
    {
      "cell_type": "code",
      "source": [
        "cnn_model.add(layers.Dense(128, activation='relu'))"
      ],
      "metadata": {
        "id": "nzI4zs9RXLGl"
      },
      "execution_count": null,
      "outputs": []
    },
    {
      "cell_type": "code",
      "source": [
        "cnn_model.add(layers.Dense(10, activation='softmax'))"
      ],
      "metadata": {
        "id": "wuGCQXGtXNR8"
      },
      "execution_count": null,
      "outputs": []
    },
    {
      "cell_type": "code",
      "source": [
        "cnn_model.compile(optimizer='adam',\n",
        "              loss='categorical_crossentropy',\n",
        "              metrics=['accuracy'])"
      ],
      "metadata": {
        "id": "VR62NWSxXVZo"
      },
      "execution_count": null,
      "outputs": []
    },
    {
      "cell_type": "code",
      "source": [
        "cnn_result = cnn_model.fit(cnn_train_images, cnn_train_labels, epochs=10, batch_size=64,\n",
        "                         validation_data=(cnn_test_images, cnn_test_labels))"
      ],
      "metadata": {
        "colab": {
          "base_uri": "https://localhost:8080/"
        },
        "id": "bLE3VPzrXfqF",
        "outputId": "5c3f68cb-f0f4-4f35-f0c1-51384080d586"
      },
      "execution_count": null,
      "outputs": [
        {
          "output_type": "stream",
          "name": "stdout",
          "text": [
            "Epoch 1/10\n",
            "\u001b[1m782/782\u001b[0m \u001b[32m━━━━━━━━━━━━━━━━━━━━\u001b[0m\u001b[37m\u001b[0m \u001b[1m11s\u001b[0m 8ms/step - accuracy: 0.3293 - loss: 1.8023 - val_accuracy: 0.5355 - val_loss: 1.2798\n",
            "Epoch 2/10\n",
            "\u001b[1m782/782\u001b[0m \u001b[32m━━━━━━━━━━━━━━━━━━━━\u001b[0m\u001b[37m\u001b[0m \u001b[1m3s\u001b[0m 3ms/step - accuracy: 0.5588 - loss: 1.2293 - val_accuracy: 0.6030 - val_loss: 1.1204\n",
            "Epoch 3/10\n",
            "\u001b[1m782/782\u001b[0m \u001b[32m━━━━━━━━━━━━━━━━━━━━\u001b[0m\u001b[37m\u001b[0m \u001b[1m5s\u001b[0m 4ms/step - accuracy: 0.6324 - loss: 1.0450 - val_accuracy: 0.6382 - val_loss: 1.0528\n",
            "Epoch 4/10\n",
            "\u001b[1m782/782\u001b[0m \u001b[32m━━━━━━━━━━━━━━━━━━━━\u001b[0m\u001b[37m\u001b[0m \u001b[1m4s\u001b[0m 4ms/step - accuracy: 0.6749 - loss: 0.9263 - val_accuracy: 0.6642 - val_loss: 0.9679\n",
            "Epoch 5/10\n",
            "\u001b[1m782/782\u001b[0m \u001b[32m━━━━━━━━━━━━━━━━━━━━\u001b[0m\u001b[37m\u001b[0m \u001b[1m3s\u001b[0m 3ms/step - accuracy: 0.7150 - loss: 0.8265 - val_accuracy: 0.6971 - val_loss: 0.9011\n",
            "Epoch 6/10\n",
            "\u001b[1m782/782\u001b[0m \u001b[32m━━━━━━━━━━━━━━━━━━━━\u001b[0m\u001b[37m\u001b[0m \u001b[1m3s\u001b[0m 3ms/step - accuracy: 0.7356 - loss: 0.7606 - val_accuracy: 0.6853 - val_loss: 0.9235\n",
            "Epoch 7/10\n",
            "\u001b[1m782/782\u001b[0m \u001b[32m━━━━━━━━━━━━━━━━━━━━\u001b[0m\u001b[37m\u001b[0m \u001b[1m3s\u001b[0m 3ms/step - accuracy: 0.7561 - loss: 0.7038 - val_accuracy: 0.6984 - val_loss: 0.8961\n",
            "Epoch 8/10\n",
            "\u001b[1m782/782\u001b[0m \u001b[32m━━━━━━━━━━━━━━━━━━━━\u001b[0m\u001b[37m\u001b[0m \u001b[1m6s\u001b[0m 4ms/step - accuracy: 0.7712 - loss: 0.6458 - val_accuracy: 0.6878 - val_loss: 0.9495\n",
            "Epoch 9/10\n",
            "\u001b[1m782/782\u001b[0m \u001b[32m━━━━━━━━━━━━━━━━━━━━\u001b[0m\u001b[37m\u001b[0m \u001b[1m3s\u001b[0m 3ms/step - accuracy: 0.7856 - loss: 0.6037 - val_accuracy: 0.7175 - val_loss: 0.8654\n",
            "Epoch 10/10\n",
            "\u001b[1m782/782\u001b[0m \u001b[32m━━━━━━━━━━━━━━━━━━━━\u001b[0m\u001b[37m\u001b[0m \u001b[1m3s\u001b[0m 3ms/step - accuracy: 0.8059 - loss: 0.5504 - val_accuracy: 0.7141 - val_loss: 0.8705\n"
          ]
        }
      ]
    },
    {
      "cell_type": "code",
      "source": [
        "cnn_test_loss, cnn_test_acc = cnn_model.evaluate(cnn_test_images, cnn_test_labels)\n",
        "print(f'Test accuracy: {cnn_test_acc*100:.2f}%')"
      ],
      "metadata": {
        "colab": {
          "base_uri": "https://localhost:8080/"
        },
        "id": "zVRCI0nOX7Qx",
        "outputId": "8eedc52f-b8bd-4d00-8c39-e07696f90d5c"
      },
      "execution_count": null,
      "outputs": [
        {
          "output_type": "stream",
          "name": "stdout",
          "text": [
            "\u001b[1m313/313\u001b[0m \u001b[32m━━━━━━━━━━━━━━━━━━━━\u001b[0m\u001b[37m\u001b[0m \u001b[1m1s\u001b[0m 2ms/step - accuracy: 0.7218 - loss: 0.8540\n",
            "Test accuracy: 71.41%\n"
          ]
        }
      ]
    },
    {
      "cell_type": "code",
      "source": [
        "#Compare results between the ANN and CNN models and provide visualizations (e.g., accuracy and loss curves) while keeping epoch at 10."
      ],
      "metadata": {
        "id": "REQeMNOZY-Rd"
      },
      "execution_count": null,
      "outputs": []
    },
    {
      "cell_type": "code",
      "source": [
        "ann1_model = models.Sequential()\n",
        "ann1_model.add(layers.Flatten(input_shape=(32, 32, 3)))\n",
        "ann1_model.add(layers.Dense(512, activation='relu'))\n",
        "ann1_model.add(layers.Dense(256, activation='relu'))\n",
        "ann1_model.add(layers.Dense(10, activation='softmax'))"
      ],
      "metadata": {
        "colab": {
          "base_uri": "https://localhost:8080/"
        },
        "id": "5gCFXvQBZJ3A",
        "outputId": "dbc82073-4914-4955-bcee-72daae080428"
      },
      "execution_count": null,
      "outputs": [
        {
          "output_type": "stream",
          "name": "stderr",
          "text": [
            "/usr/local/lib/python3.10/dist-packages/keras/src/layers/reshaping/flatten.py:37: UserWarning: Do not pass an `input_shape`/`input_dim` argument to a layer. When using Sequential models, prefer using an `Input(shape)` object as the first layer in the model instead.\n",
            "  super().__init__(**kwargs)\n"
          ]
        }
      ]
    },
    {
      "cell_type": "code",
      "source": [
        "ann1_model.compile(optimizer='adam', loss='categorical_crossentropy', metrics=['accuracy'])"
      ],
      "metadata": {
        "id": "9oJ7GpG1bZ-7"
      },
      "execution_count": null,
      "outputs": []
    },
    {
      "cell_type": "code",
      "source": [
        "ann1_result = ann_model.fit(ann_train_images, ann_train_labels, epochs=10, batch_size=64, validation_data=(ann_test_images, ann_test_labels))"
      ],
      "metadata": {
        "colab": {
          "base_uri": "https://localhost:8080/"
        },
        "id": "maslW-1AblRC",
        "outputId": "9b961a68-81af-4fbb-a5c9-804f73d8acc2"
      },
      "execution_count": null,
      "outputs": [
        {
          "output_type": "stream",
          "name": "stdout",
          "text": [
            "Epoch 1/10\n",
            "\u001b[1m782/782\u001b[0m \u001b[32m━━━━━━━━━━━━━━━━━━━━\u001b[0m\u001b[37m\u001b[0m \u001b[1m2s\u001b[0m 3ms/step - accuracy: 0.5750 - loss: 1.1838 - val_accuracy: 0.5078 - val_loss: 1.4136\n",
            "Epoch 2/10\n",
            "\u001b[1m782/782\u001b[0m \u001b[32m━━━━━━━━━━━━━━━━━━━━\u001b[0m\u001b[37m\u001b[0m \u001b[1m3s\u001b[0m 4ms/step - accuracy: 0.5818 - loss: 1.1704 - val_accuracy: 0.5098 - val_loss: 1.4202\n",
            "Epoch 3/10\n",
            "\u001b[1m782/782\u001b[0m \u001b[32m━━━━━━━━━━━━━━━━━━━━\u001b[0m\u001b[37m\u001b[0m \u001b[1m2s\u001b[0m 2ms/step - accuracy: 0.5833 - loss: 1.1628 - val_accuracy: 0.5108 - val_loss: 1.4285\n",
            "Epoch 4/10\n",
            "\u001b[1m782/782\u001b[0m \u001b[32m━━━━━━━━━━━━━━━━━━━━\u001b[0m\u001b[37m\u001b[0m \u001b[1m3s\u001b[0m 2ms/step - accuracy: 0.5863 - loss: 1.1378 - val_accuracy: 0.5067 - val_loss: 1.4528\n",
            "Epoch 5/10\n",
            "\u001b[1m782/782\u001b[0m \u001b[32m━━━━━━━━━━━━━━━━━━━━\u001b[0m\u001b[37m\u001b[0m \u001b[1m2s\u001b[0m 2ms/step - accuracy: 0.5985 - loss: 1.1199 - val_accuracy: 0.5156 - val_loss: 1.4200\n",
            "Epoch 6/10\n",
            "\u001b[1m782/782\u001b[0m \u001b[32m━━━━━━━━━━━━━━━━━━━━\u001b[0m\u001b[37m\u001b[0m \u001b[1m3s\u001b[0m 3ms/step - accuracy: 0.5937 - loss: 1.1345 - val_accuracy: 0.4977 - val_loss: 1.4576\n",
            "Epoch 7/10\n",
            "\u001b[1m782/782\u001b[0m \u001b[32m━━━━━━━━━━━━━━━━━━━━\u001b[0m\u001b[37m\u001b[0m \u001b[1m3s\u001b[0m 4ms/step - accuracy: 0.6027 - loss: 1.1094 - val_accuracy: 0.5175 - val_loss: 1.4107\n",
            "Epoch 8/10\n",
            "\u001b[1m782/782\u001b[0m \u001b[32m━━━━━━━━━━━━━━━━━━━━\u001b[0m\u001b[37m\u001b[0m \u001b[1m4s\u001b[0m 3ms/step - accuracy: 0.6068 - loss: 1.0969 - val_accuracy: 0.5106 - val_loss: 1.4172\n",
            "Epoch 9/10\n",
            "\u001b[1m782/782\u001b[0m \u001b[32m━━━━━━━━━━━━━━━━━━━━\u001b[0m\u001b[37m\u001b[0m \u001b[1m2s\u001b[0m 2ms/step - accuracy: 0.6125 - loss: 1.0873 - val_accuracy: 0.5143 - val_loss: 1.4411\n",
            "Epoch 10/10\n",
            "\u001b[1m782/782\u001b[0m \u001b[32m━━━━━━━━━━━━━━━━━━━━\u001b[0m\u001b[37m\u001b[0m \u001b[1m3s\u001b[0m 3ms/step - accuracy: 0.6201 - loss: 1.0672 - val_accuracy: 0.5226 - val_loss: 1.4200\n"
          ]
        }
      ]
    },
    {
      "cell_type": "code",
      "source": [
        "cnn1_model = models.Sequential()\n",
        "cnn1_model.add(layers.Conv2D(32, (3, 3), activation='relu', input_shape=(32, 32, 3)))\n",
        "cnn1_model.add(layers.MaxPooling2D(pool_size=(2, 2)))\n",
        "cnn1_model.add(layers.Conv2D(64, (3, 3), activation='relu'))\n",
        "cnn1_model.add(layers.MaxPooling2D(pool_size=(2, 2)))\n",
        "cnn1_model.add(layers.Conv2D(128, (3, 3), activation='relu'))\n",
        "cnn1_model.add(layers.MaxPooling2D(pool_size=(2, 2)))\n",
        "cnn1_model.add(layers.Flatten())\n",
        "cnn1_model.add(layers.Dense(128, activation='relu'))\n",
        "cnn1_model.add(layers.Dense(10, activation='softmax'))"
      ],
      "metadata": {
        "colab": {
          "base_uri": "https://localhost:8080/"
        },
        "id": "dYD3F6uVcuar",
        "outputId": "7c826548-1c77-443c-bb23-dc6c4496cbc1"
      },
      "execution_count": null,
      "outputs": [
        {
          "output_type": "stream",
          "name": "stderr",
          "text": [
            "/usr/local/lib/python3.10/dist-packages/keras/src/layers/convolutional/base_conv.py:107: UserWarning: Do not pass an `input_shape`/`input_dim` argument to a layer. When using Sequential models, prefer using an `Input(shape)` object as the first layer in the model instead.\n",
            "  super().__init__(activity_regularizer=activity_regularizer, **kwargs)\n"
          ]
        }
      ]
    },
    {
      "cell_type": "code",
      "source": [
        "cnn1_model.compile(optimizer='adam', loss='categorical_crossentropy', metrics=['accuracy'])"
      ],
      "metadata": {
        "id": "8k_gqnfbdBzr"
      },
      "execution_count": null,
      "outputs": []
    },
    {
      "cell_type": "code",
      "source": [
        "cnn1_result = cnn_model.fit(cnn_train_images, cnn_train_labels, epochs=10, batch_size=64, validation_data=(cnn_test_images, cnn_test_labels))"
      ],
      "metadata": {
        "colab": {
          "base_uri": "https://localhost:8080/"
        },
        "id": "FherjFs7dKYs",
        "outputId": "3d5632cd-3490-4a4b-9b5e-273adbb31b61"
      },
      "execution_count": null,
      "outputs": [
        {
          "output_type": "stream",
          "name": "stdout",
          "text": [
            "Epoch 1/10\n",
            "\u001b[1m782/782\u001b[0m \u001b[32m━━━━━━━━━━━━━━━━━━━━\u001b[0m\u001b[37m\u001b[0m \u001b[1m3s\u001b[0m 4ms/step - accuracy: 0.8276 - loss: 0.4936 - val_accuracy: 0.6920 - val_loss: 0.9579\n",
            "Epoch 2/10\n",
            "\u001b[1m782/782\u001b[0m \u001b[32m━━━━━━━━━━━━━━━━━━━━\u001b[0m\u001b[37m\u001b[0m \u001b[1m5s\u001b[0m 3ms/step - accuracy: 0.8333 - loss: 0.4791 - val_accuracy: 0.7225 - val_loss: 0.8960\n",
            "Epoch 3/10\n",
            "\u001b[1m782/782\u001b[0m \u001b[32m━━━━━━━━━━━━━━━━━━━━\u001b[0m\u001b[37m\u001b[0m \u001b[1m3s\u001b[0m 3ms/step - accuracy: 0.8451 - loss: 0.4381 - val_accuracy: 0.7131 - val_loss: 0.9318\n",
            "Epoch 4/10\n",
            "\u001b[1m782/782\u001b[0m \u001b[32m━━━━━━━━━━━━━━━━━━━━\u001b[0m\u001b[37m\u001b[0m \u001b[1m3s\u001b[0m 3ms/step - accuracy: 0.8632 - loss: 0.3927 - val_accuracy: 0.7251 - val_loss: 0.9176\n",
            "Epoch 5/10\n",
            "\u001b[1m782/782\u001b[0m \u001b[32m━━━━━━━━━━━━━━━━━━━━\u001b[0m\u001b[37m\u001b[0m \u001b[1m5s\u001b[0m 4ms/step - accuracy: 0.8754 - loss: 0.3565 - val_accuracy: 0.7172 - val_loss: 1.0168\n",
            "Epoch 6/10\n",
            "\u001b[1m782/782\u001b[0m \u001b[32m━━━━━━━━━━━━━━━━━━━━\u001b[0m\u001b[37m\u001b[0m \u001b[1m5s\u001b[0m 4ms/step - accuracy: 0.8803 - loss: 0.3370 - val_accuracy: 0.7201 - val_loss: 1.0089\n",
            "Epoch 7/10\n",
            "\u001b[1m782/782\u001b[0m \u001b[32m━━━━━━━━━━━━━━━━━━━━\u001b[0m\u001b[37m\u001b[0m \u001b[1m6s\u001b[0m 4ms/step - accuracy: 0.8955 - loss: 0.2955 - val_accuracy: 0.7139 - val_loss: 1.1022\n",
            "Epoch 8/10\n",
            "\u001b[1m782/782\u001b[0m \u001b[32m━━━━━━━━━━━━━━━━━━━━\u001b[0m\u001b[37m\u001b[0m \u001b[1m4s\u001b[0m 3ms/step - accuracy: 0.9025 - loss: 0.2788 - val_accuracy: 0.7167 - val_loss: 1.1288\n",
            "Epoch 9/10\n",
            "\u001b[1m782/782\u001b[0m \u001b[32m━━━━━━━━━━━━━━━━━━━━\u001b[0m\u001b[37m\u001b[0m \u001b[1m3s\u001b[0m 3ms/step - accuracy: 0.9161 - loss: 0.2474 - val_accuracy: 0.7073 - val_loss: 1.2133\n",
            "Epoch 10/10\n",
            "\u001b[1m782/782\u001b[0m \u001b[32m━━━━━━━━━━━━━━━━━━━━\u001b[0m\u001b[37m\u001b[0m \u001b[1m3s\u001b[0m 3ms/step - accuracy: 0.9172 - loss: 0.2400 - val_accuracy: 0.7111 - val_loss: 1.1977\n"
          ]
        }
      ]
    },
    {
      "cell_type": "code",
      "source": [
        "def plot_history(ann1_result, cnn1_result):\n",
        "    epochs = range(1, 11)\n",
        "    plt.figure(figsize=(12, 5))\n",
        "\n",
        "    plt.subplot(1, 2, 1)\n",
        "    plt.plot(epochs, ann1_result.history['accuracy'], 'bo-', label='ANN Training Accuracy')\n",
        "    plt.plot(epochs, ann1_result.history['val_accuracy'], 'ro-', label='ANN Validation Accuracy')\n",
        "    plt.plot(epochs, cnn1_result.history['accuracy'], 'go-', label='CNN Training Accuracy')\n",
        "    plt.plot(epochs, cnn1_result.history['val_accuracy'], 'mo-', label='CNN Validation Accuracy')\n",
        "    plt.title('Model Accuracy Comparison')\n",
        "    plt.ylabel('Accuracy')\n",
        "    plt.xlabel('Epoch')\n",
        "    plt.legend()\n",
        "\n",
        "\n",
        "    plt.subplot(1, 2, 2)\n",
        "    plt.plot(epochs, ann1_result.history['loss'], 'bo-', label='ANN Training Loss')\n",
        "    plt.plot(epochs, ann1_result.history['val_loss'], 'ro-', label='ANN Validation Loss')\n",
        "    plt.plot(epochs, cnn1_result.history['loss'], 'go-', label='CNN Training Loss')\n",
        "    plt.plot(epochs, cnn1_result.history['val_loss'], 'mo-', label='CNN Validation Loss')\n",
        "    plt.title('Model Loss Comparison')\n",
        "    plt.ylabel('Loss')\n",
        "    plt.xlabel('Epoch')\n",
        "    plt.legend()\n",
        "\n",
        "    plt.tight_layout()\n",
        "    plt.show()"
      ],
      "metadata": {
        "id": "bMo1-942duMT"
      },
      "execution_count": null,
      "outputs": []
    },
    {
      "cell_type": "code",
      "source": [
        "plot_history(ann1_result, cnn1_result)"
      ],
      "metadata": {
        "colab": {
          "base_uri": "https://localhost:8080/",
          "height": 309
        },
        "id": "D9OyIihZgrOI",
        "outputId": "45c61b96-4014-4917-f2d0-c96c06116106"
      },
      "execution_count": null,
      "outputs": [
        {
          "output_type": "display_data",
          "data": {
            "text/plain": [
              "<Figure size 1200x500 with 2 Axes>"
            ],
            "image/png": "[encoded data removed]"
          },
          "metadata": {}
        }
      ]
    },
    {
      "cell_type": "code",
      "source": [
        "#Made By - Momin Nashra Tanveer Ahmed"
      ],
      "metadata": {
        "id": "puzsF2BCozg6"
      },
      "execution_count": 1,
      "outputs": []
    },
    {
      "cell_type": "code",
      "source": [],
      "metadata": {
        "id": "laMMLOtao5E6"
      },
      "execution_count": null,
      "outputs": []
    }
  ]
}