{
  "nbformat": 4,
  "nbformat_minor": 0,
  "metadata": {
    "colab": {
      "provenance": [],
      "gpuType": "T4"
    },
    "kernelspec": {
      "name": "python3",
      "display_name": "Python 3"
    },
    "language_info": {
      "name": "python"
    },
    "accelerator": "GPU"
  },
  "cells": [
    {
      "cell_type": "code",
      "execution_count": 15,
      "metadata": {
        "colab": {
          "base_uri": "https://localhost:8080/"
        },
        "id": "SCrFatEJ9CSP",
        "outputId": "7108a271-8b0d-4e66-b3ff-fc9253ee2918"
      },
      "outputs": [
        {
          "output_type": "stream",
          "name": "stdout",
          "text": [
            "Requirement already satisfied: Flask in /usr/local/lib/python3.10/dist-packages (2.2.5)\n",
            "Requirement already satisfied: pyngrok in /usr/local/lib/python3.10/dist-packages (7.2.0)\n",
            "Requirement already satisfied: Werkzeug>=2.2.2 in /usr/local/lib/python3.10/dist-packages (from Flask) (3.0.6)\n",
            "Requirement already satisfied: Jinja2>=3.0 in /usr/local/lib/python3.10/dist-packages (from Flask) (3.1.4)\n",
            "Requirement already satisfied: itsdangerous>=2.0 in /usr/local/lib/python3.10/dist-packages (from Flask) (2.2.0)\n",
            "Requirement already satisfied: click>=8.0 in /usr/local/lib/python3.10/dist-packages (from Flask) (8.1.7)\n",
            "Requirement already satisfied: PyYAML>=5.1 in /usr/local/lib/python3.10/dist-packages (from pyngrok) (6.0.2)\n",
            "Requirement already satisfied: MarkupSafe>=2.0 in /usr/local/lib/python3.10/dist-packages (from Jinja2>=3.0->Flask) (3.0.2)\n"
          ]
        }
      ],
      "source": [
        "!pip install Flask pyngrok\n"
      ]
    },
    {
      "cell_type": "code",
      "source": [
        "import sqlite3\n",
        "\n",
        "def init_db():\n",
        "    conn = sqlite3.connect('tasks.db')\n",
        "    cursor = conn.cursor()\n",
        "    cursor.execute('''\n",
        "        CREATE TABLE IF NOT EXISTS tasks (\n",
        "            id INTEGER PRIMARY KEY AUTOINCREMENT,\n",
        "            description TEXT NOT NULL,\n",
        "            status INTEGER NOT NULL DEFAULT 0\n",
        "        )\n",
        "    ''')\n",
        "    conn.commit()\n",
        "    conn.close()\n",
        "\n",
        "init_db()  # Initialize the database\n"
      ],
      "metadata": {
        "id": "AWHBCgnY-qEr"
      },
      "execution_count": 16,
      "outputs": []
    },
    {
      "cell_type": "code",
      "source": [
        "from flask import Flask, request, redirect, render_template_string\n",
        "from pyngrok import ngrok\n",
        "import sqlite3\n",
        "\n",
        "app = Flask(__name__)\n",
        "\n",
        "def get_db_connection():\n",
        "    conn = sqlite3.connect('tasks.db')\n",
        "    conn.row_factory = sqlite3.Row  # To retrieve rows as dictionaries\n",
        "    return conn\n"
      ],
      "metadata": {
        "id": "b8AdrdrA-te0"
      },
      "execution_count": 10,
      "outputs": []
    },
    {
      "cell_type": "code",
      "source": [
        "@app.route('/')\n",
        "def index():\n",
        "    conn = get_db_connection()\n",
        "    tasks = conn.execute('SELECT * FROM tasks').fetchall()\n",
        "    conn.close()\n",
        "    return render_template_string('''\n",
        "        <h1>Task List</h1>\n",
        "        <a href=\"/create\">Add New Task</a>\n",
        "        <ul>\n",
        "            {% for task in tasks %}\n",
        "                <li>\n",
        "                    {{ task['description'] }} -\n",
        "                    {% if task['status'] %} Complete {% else %} Incomplete {% endif %}\n",
        "                    <a href=\"/update/{{ task['id'] }}\">Edit</a> |\n",
        "                    <a href=\"/delete/{{ task['id'] }}\">Delete</a>\n",
        "                </li>\n",
        "            {% endfor %}\n",
        "        </ul>\n",
        "    ''', tasks=tasks)\n"
      ],
      "metadata": {
        "id": "FJaeafDj-x8o"
      },
      "execution_count": 11,
      "outputs": []
    },
    {
      "cell_type": "code",
      "source": [
        "@app.route('/create', methods=('GET', 'POST'))\n",
        "def create():\n",
        "    if request.method == 'POST':\n",
        "        description = request.form['description']\n",
        "        conn = get_db_connection()\n",
        "        conn.execute('INSERT INTO tasks (description) VALUES (?)', (description,))\n",
        "        conn.commit()\n",
        "        conn.close()\n",
        "        return redirect('/')\n",
        "\n",
        "    return render_template_string('''\n",
        "        <h1>Create New Task</h1>\n",
        "        <form method=\"post\">\n",
        "            <input type=\"text\" name=\"description\" placeholder=\"Task Description\" required>\n",
        "            <button type=\"submit\">Create Task</button>\n",
        "        </form>\n",
        "        <a href=\"/\">Back to Task List</a>\n",
        "    ''')\n"
      ],
      "metadata": {
        "id": "BoOOGX8y-2FC"
      },
      "execution_count": 12,
      "outputs": []
    },
    {
      "cell_type": "code",
      "source": [
        "@app.route('/update/<int:id>', methods=('GET', 'POST'))\n",
        "def update(id):\n",
        "    conn = get_db_connection()\n",
        "    task = conn.execute('SELECT * FROM tasks WHERE id = ?', (id,)).fetchone()\n",
        "\n",
        "    if request.method == 'POST':\n",
        "        description = request.form['description']\n",
        "        status = int(request.form['status'])\n",
        "        conn.execute('UPDATE tasks SET description = ?, status = ? WHERE id = ?', (description, status, id))\n",
        "        conn.commit()\n",
        "        conn.close()\n",
        "        return redirect('/')\n",
        "\n",
        "    conn.close()\n",
        "    return render_template_string('''\n",
        "        <h1>Update Task</h1>\n",
        "        <form method=\"post\">\n",
        "            <input type=\"text\" name=\"description\" value=\"{{ task['description'] }}\" required>\n",
        "            <label>Status:</label>\n",
        "            <select name=\"status\">\n",
        "                <option value=\"0\" {% if task['status'] == 0 %} selected {% endif %}>Incomplete</option>\n",
        "                <option value=\"1\" {% if task['status'] == 1 %} selected {% endif %}>Complete</option>\n",
        "            </select>\n",
        "            <button type=\"submit\">Update Task</button>\n",
        "        </form>\n",
        "        <a href=\"/\">Back to Task List</a>\n",
        "    ''', task=task)\n"
      ],
      "metadata": {
        "id": "_bcQ4ywm-6F6"
      },
      "execution_count": 13,
      "outputs": []
    },
    {
      "cell_type": "code",
      "source": [
        "@app.route('/delete/<int:id>', methods=('GET', 'POST'))\n",
        "def delete(id):\n",
        "    conn = get_db_connection()\n",
        "    if request.method == 'POST':\n",
        "        conn.execute('DELETE FROM tasks WHERE id = ?', (id,))\n",
        "        conn.commit()\n",
        "        conn.close()\n",
        "        return redirect('/')\n",
        "\n",
        "    task = conn.execute('SELECT * FROM tasks WHERE id = ?', (id,)).fetchone()\n",
        "    conn.close()\n",
        "    return render_template_string('''\n",
        "        <h1>Delete Task</h1>\n",
        "        <p>Are you sure you want to delete this task?</p>\n",
        "        <p>{{ task['description'] }}</p>\n",
        "        <form method=\"post\">\n",
        "            <button type=\"submit\">Delete</button>\n",
        "        </form>\n",
        "        <a href=\"/\">Cancel</a>\n",
        "    ''', task=task)\n"
      ],
      "metadata": {
        "id": "fqSXs2zI-9np"
      },
      "execution_count": 14,
      "outputs": []
    },
    {
      "cell_type": "code",
      "source": [
        "# Start the app and expose it with ngrok\n",
        "port = 5000\n",
        "ngrok_tunnel = ngrok.connect(port)\n",
        "print(\" * ngrok URL:\", ngrok_tunnel.public_url)\n",
        "\n",
        "app.run(port=port)\n"
      ],
      "metadata": {
        "colab": {
          "base_uri": "https://localhost:8080/"
        },
        "id": "Cf_6H3UP_Auw",
        "outputId": "4692614e-cfdb-4e2f-b38b-df91732406b8"
      },
      "execution_count": 18,
      "outputs": [
        {
          "output_type": "stream",
          "name": "stdout",
          "text": [
            " * ngrok URL: https://6877-34-16-211-44.ngrok-free.app\n",
            " * Serving Flask app '__main__'\n",
            " * Debug mode: off\n"
          ]
        },
        {
          "output_type": "stream",
          "name": "stderr",
          "text": [
            "INFO:werkzeug:\u001b[31m\u001b[1mWARNING: This is a development server. Do not use it in a production deployment. Use a production WSGI server instead.\u001b[0m\n",
            " * Running on http://127.0.0.1:5000\n",
            "INFO:werkzeug:\u001b[33mPress CTRL+C to quit\u001b[0m\n",
            "INFO:werkzeug:127.0.0.1 - - [02/Nov/2024 13:31:18] \"GET / HTTP/1.1\" 200 -\n",
            "INFO:werkzeug:127.0.0.1 - - [02/Nov/2024 13:31:19] \"\u001b[33mGET /favicon.ico HTTP/1.1\u001b[0m\" 404 -\n"
          ]
        }
      ]
    },
    {
      "cell_type": "code",
      "source": [
        "!ngrok config add-authtoken 2oHnLafkdMc0OgdRmzNLwzy42Mi_2Pwy2YrAzV8dTiKTHKXMm\n"
      ],
      "metadata": {
        "colab": {
          "base_uri": "https://localhost:8080/"
        },
        "id": "7uMqdxhC_G33",
        "outputId": "e2ac076a-f095-4f19-b665-a8068d96f385"
      },
      "execution_count": 17,
      "outputs": [
        {
          "output_type": "stream",
          "name": "stdout",
          "text": [
            "Authtoken saved to configuration file: /root/.config/ngrok/ngrok.yml\n"
          ]
        }
      ]
    },
    {
      "cell_type": "code",
      "source": [],
      "metadata": {
        "id": "5ZRCO5aUDNoK"
      },
      "execution_count": null,
      "outputs": []
    }
  ]
}