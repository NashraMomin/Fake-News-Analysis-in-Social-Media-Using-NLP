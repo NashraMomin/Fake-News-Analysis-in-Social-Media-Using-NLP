{
 "cells": [
  {
   "cell_type": "code",
   "execution_count": 32,
   "id": "a16ab47f-9a96-45c6-893a-2a012525ad06",
   "metadata": {},
   "outputs": [],
   "source": [
    "import pandas as pd\n",
    "import numpy as np\n",
    "from sklearn.feature_extraction.text import CountVectorizer\n",
    "from sklearn.model_selection import train_test_split\n",
    "from sklearn.feature_extraction.text import TfidfVectorizer\n",
    "from sklearn.naive_bayes import MultinomialNB\n",
    "from sklearn.metrics import accuracy_score, confusion_matrix\n",
    "import seaborn as sns\n",
    "import pickle"
   ]
  },
  {
   "cell_type": "code",
   "execution_count": 33,
   "id": "3a1d922c-9356-42a3-acea-8bbdea080eb5",
   "metadata": {},
   "outputs": [
    {
     "data": {
      "text/html": [
       "<div>\n",
       "<style scoped>\n",
       "    .dataframe tbody tr th:only-of-type {\n",
       "        vertical-align: middle;\n",
       "    }\n",
       "\n",
       "    .dataframe tbody tr th {\n",
       "        vertical-align: top;\n",
       "    }\n",
       "\n",
       "    .dataframe thead th {\n",
       "        text-align: right;\n",
       "    }\n",
       "</style>\n",
       "<table border=\"1\" class=\"dataframe\">\n",
       "  <thead>\n",
       "    <tr style=\"text-align: right;\">\n",
       "      <th></th>\n",
       "      <th>Unnamed: 0</th>\n",
       "      <th>title</th>\n",
       "      <th>text</th>\n",
       "      <th>label</th>\n",
       "    </tr>\n",
       "  </thead>\n",
       "  <tbody>\n",
       "    <tr>\n",
       "      <th>0</th>\n",
       "      <td>8476</td>\n",
       "      <td>You Can Smell Hillary’s Fear</td>\n",
       "      <td>Daniel Greenfield, a Shillman Journalism Fello...</td>\n",
       "      <td>FAKE</td>\n",
       "    </tr>\n",
       "    <tr>\n",
       "      <th>1</th>\n",
       "      <td>10294</td>\n",
       "      <td>Watch The Exact Moment Paul Ryan Committed Pol...</td>\n",
       "      <td>Google Pinterest Digg Linkedin Reddit Stumbleu...</td>\n",
       "      <td>FAKE</td>\n",
       "    </tr>\n",
       "    <tr>\n",
       "      <th>2</th>\n",
       "      <td>3608</td>\n",
       "      <td>Kerry to go to Paris in gesture of sympathy</td>\n",
       "      <td>U.S. Secretary of State John F. Kerry said Mon...</td>\n",
       "      <td>REAL</td>\n",
       "    </tr>\n",
       "    <tr>\n",
       "      <th>3</th>\n",
       "      <td>10142</td>\n",
       "      <td>Bernie supporters on Twitter erupt in anger ag...</td>\n",
       "      <td>— Kaydee King (@KaydeeKing) November 9, 2016 T...</td>\n",
       "      <td>FAKE</td>\n",
       "    </tr>\n",
       "    <tr>\n",
       "      <th>4</th>\n",
       "      <td>875</td>\n",
       "      <td>The Battle of New York: Why This Primary Matters</td>\n",
       "      <td>It's primary day in New York and front-runners...</td>\n",
       "      <td>REAL</td>\n",
       "    </tr>\n",
       "  </tbody>\n",
       "</table>\n",
       "</div>"
      ],
      "text/plain": [
       "   Unnamed: 0                                              title  \\\n",
       "0        8476                       You Can Smell Hillary’s Fear   \n",
       "1       10294  Watch The Exact Moment Paul Ryan Committed Pol...   \n",
       "2        3608        Kerry to go to Paris in gesture of sympathy   \n",
       "3       10142  Bernie supporters on Twitter erupt in anger ag...   \n",
       "4         875   The Battle of New York: Why This Primary Matters   \n",
       "\n",
       "                                                text label  \n",
       "0  Daniel Greenfield, a Shillman Journalism Fello...  FAKE  \n",
       "1  Google Pinterest Digg Linkedin Reddit Stumbleu...  FAKE  \n",
       "2  U.S. Secretary of State John F. Kerry said Mon...  REAL  \n",
       "3  — Kaydee King (@KaydeeKing) November 9, 2016 T...  FAKE  \n",
       "4  It's primary day in New York and front-runners...  REAL  "
      ]
     },
     "execution_count": 33,
     "metadata": {},
     "output_type": "execute_result"
    }
   ],
   "source": [
    "df = pd.read_csv('news.csv')\n",
    "df.head()"
   ]
  },
  {
   "cell_type": "code",
   "execution_count": 34,
   "id": "ff4dc8c0-506d-4077-a14e-0ad832a16aeb",
   "metadata": {},
   "outputs": [],
   "source": [
    "from sklearn.feature_extraction.text import CountVectorizer\n",
    "from sklearn.model_selection import train_test_split"
   ]
  },
  {
   "cell_type": "code",
   "execution_count": 35,
   "id": "b63fd260-ed7a-43bd-8275-ea05e16a8602",
   "metadata": {},
   "outputs": [],
   "source": [
    "X=df['text']\n",
    "y=df['label']"
   ]
  },
  {
   "cell_type": "code",
   "execution_count": 36,
   "id": "844dae67-1831-46ff-9bb3-653c065db392",
   "metadata": {},
   "outputs": [
    {
     "name": "stdout",
     "output_type": "stream",
     "text": [
      "['00' '000' '0000' '00000031' '000035' '00006' '0001' '0001pt' '000ft'\n",
      " '000km']\n"
     ]
    }
   ],
   "source": [
    "X_train, X_test, y_train, y_test = train_test_split (X,  y, test_size = 0.33, random_state=53)\n",
    "\n",
    "count_vectorizer = CountVectorizer(stop_words='english')\n",
    "\n",
    "count_train = count_vectorizer.fit_transform(X_train)\n",
    "\n",
    "count_test = count_vectorizer.transform (X_test)\n",
    "\n",
    "print(count_vectorizer.get_feature_names_out()[:10])"
   ]
  },
  {
   "cell_type": "code",
   "execution_count": 37,
   "id": "3a7b311e-217e-4959-a84e-0ab99e6656e9",
   "metadata": {},
   "outputs": [
    {
     "name": "stdout",
     "output_type": "stream",
     "text": [
      "['00' '000' '0000' '00000031' '000035' '00006' '0001' '0001pt' '000ft'\n",
      " '000km']\n",
      "[[0. 0. 0. ... 0. 0. 0.]\n",
      " [0. 0. 0. ... 0. 0. 0.]\n",
      " [0. 0. 0. ... 0. 0. 0.]\n",
      " [0. 0. 0. ... 0. 0. 0.]\n",
      " [0. 0. 0. ... 0. 0. 0.]]\n"
     ]
    }
   ],
   "source": [
    "from sklearn.feature_extraction.text import TfidfVectorizer\n",
    "\n",
    "tfidf_vectorizer = TfidfVectorizer(stop_words='english', max_df=0.7)\n",
    "\n",
    "tfidf_train = tfidf_vectorizer.fit_transform (X_train)\n",
    "\n",
    "tfidf_test = tfidf_vectorizer.transform (X_test)\n",
    "\n",
    "print(tfidf_vectorizer.get_feature_names_out()[:10])\n",
    "\n",
    "print(tfidf_train.A[:5])"
   ]
  },
  {
   "cell_type": "code",
   "execution_count": 38,
   "id": "ef765ce4-844c-43ff-9e10-22d275459d29",
   "metadata": {},
   "outputs": [
    {
     "name": "stdout",
     "output_type": "stream",
     "text": [
      "   00  000  0000  00000031  000035  00006  0001  0001pt  000ft  000km  ...  \\\n",
      "0   0    0     0         0       0      0     0       0      0      0  ...   \n",
      "1   0    0     0         0       0      0     0       0      0      0  ...   \n",
      "2   0    0     0         0       0      0     0       0      0      0  ...   \n",
      "3   0    0     0         0       0      0     0       0      0      0  ...   \n",
      "4   0    0     0         0       0      0     0       0      0      0  ...   \n",
      "\n",
      "   حلب  عربي  عن  لم  ما  محاولات  من  هذا  والمرضى  ยงade  \n",
      "0    0     0   0   0   0        0   0    0        0      0  \n",
      "1    0     0   0   0   0        0   0    0        0      0  \n",
      "2    0     0   0   0   0        0   0    0        0      0  \n",
      "3    0     0   0   0   0        0   0    0        0      0  \n",
      "4    0     0   0   0   0        0   0    0        0      0  \n",
      "\n",
      "[5 rows x 56922 columns]\n",
      "    00  000  0000  00000031  000035  00006  0001  0001pt  000ft  000km  ...  \\\n",
      "0  0.0  0.0   0.0       0.0     0.0    0.0   0.0     0.0    0.0    0.0  ...   \n",
      "1  0.0  0.0   0.0       0.0     0.0    0.0   0.0     0.0    0.0    0.0  ...   \n",
      "2  0.0  0.0   0.0       0.0     0.0    0.0   0.0     0.0    0.0    0.0  ...   \n",
      "3  0.0  0.0   0.0       0.0     0.0    0.0   0.0     0.0    0.0    0.0  ...   \n",
      "4  0.0  0.0   0.0       0.0     0.0    0.0   0.0     0.0    0.0    0.0  ...   \n",
      "\n",
      "   حلب  عربي   عن   لم   ما  محاولات   من  هذا  والمرضى  ยงade  \n",
      "0  0.0   0.0  0.0  0.0  0.0      0.0  0.0  0.0      0.0    0.0  \n",
      "1  0.0   0.0  0.0  0.0  0.0      0.0  0.0  0.0      0.0    0.0  \n",
      "2  0.0   0.0  0.0  0.0  0.0      0.0  0.0  0.0      0.0    0.0  \n",
      "3  0.0   0.0  0.0  0.0  0.0      0.0  0.0  0.0      0.0    0.0  \n",
      "4  0.0   0.0  0.0  0.0  0.0      0.0  0.0  0.0      0.0    0.0  \n",
      "\n",
      "[5 rows x 56922 columns]\n",
      "set()\n",
      "False\n"
     ]
    }
   ],
   "source": [
    "count_df = pd.DataFrame(count_train.A,columns = count_vectorizer.get_feature_names_out())\n",
    "\n",
    "tfidf_df = pd.DataFrame(tfidf_train.A, columns = tfidf_vectorizer.get_feature_names_out())\n",
    "\n",
    "print(count_df.head())\n",
    "\n",
    "print(tfidf_df.head())\n",
    "\n",
    "difference = set(count_df.columns) - set(tfidf_df.columns)\n",
    "print(difference)\n",
    "\n",
    "print(count_df.equals(tfidf_df))"
   ]
  },
  {
   "cell_type": "code",
   "execution_count": 39,
   "id": "d2353a11-bb61-47a9-8afa-d432fa8b6bff",
   "metadata": {},
   "outputs": [],
   "source": [
    "X_train, X_test, y_train, y_test = train_test_split (X,  y, test_size = 0.33, random_state=53)"
   ]
  },
  {
   "cell_type": "code",
   "execution_count": 40,
   "id": "2d403ce8-60b2-4a0c-979d-c0cc238c3a7a",
   "metadata": {},
   "outputs": [
    {
     "name": "stdout",
     "output_type": "stream",
     "text": [
      "0.893352462936394\n"
     ]
    }
   ],
   "source": [
    "from sklearn.naive_bayes import MultinomialNB\n",
    "\n",
    "from sklearn.metrics import accuracy_score, confusion_matrix\n",
    "\n",
    "nb_classifier = MultinomialNB()\n",
    "\n",
    "nb_classifier.fit(count_train, y_train)\n",
    "\n",
    "pred = nb_classifier.predict(count_test)\n",
    "\n",
    "score = accuracy_score(y_test, pred)\n",
    "\n",
    "print(score)\n",
    "\n"
   ]
  },
  {
   "cell_type": "code",
   "execution_count": 41,
   "id": "8f01123d-fd99-4509-8cbb-83f2033e5949",
   "metadata": {},
   "outputs": [
    {
     "name": "stdout",
     "output_type": "stream",
     "text": [
      "[[ 865  143]\n",
      " [  80 1003]]\n"
     ]
    }
   ],
   "source": [
    "cm = confusion_matrix(y_test, pred, labels=['FAKE', 'REAL'])\n",
    "\n",
    "print(cm)"
   ]
  },
  {
   "cell_type": "code",
   "execution_count": 42,
   "id": "44085253-6bc9-4a74-be1f-6bb5e53ffa2b",
   "metadata": {},
   "outputs": [
    {
     "data": {
      "text/plain": [
       "<Axes: >"
      ]
     },
     "execution_count": 42,
     "metadata": {},
     "output_type": "execute_result"
    },
    {
     "data": {
      "image/png": "[encoded data removed]",
      "text/plain": [
       "<Figure size 640x480 with 2 Axes>"
      ]
     },
     "metadata": {},
     "output_type": "display_data"
    }
   ],
   "source": [
    "import seaborn as sns\n",
    "sns.heatmap(cm, annot=True)"
   ]
  },
  {
   "cell_type": "code",
   "execution_count": 43,
   "id": "63de4453-0e82-4f3c-a0fe-57be5e0f4c51",
   "metadata": {},
   "outputs": [
    {
     "name": "stdout",
     "output_type": "stream",
     "text": [
      "0.8565279770444764\n"
     ]
    }
   ],
   "source": [
    "nb_classifier = MultinomialNB()\n",
    "\n",
    "nb_classifier.fit(tfidf_train, y_train)\n",
    "\n",
    "pred = nb_classifier.predict(tfidf_test)\n",
    "\n",
    "score = accuracy_score(y_test, pred)\n",
    "\n",
    "print(score)"
   ]
  },
  {
   "cell_type": "code",
   "execution_count": 44,
   "id": "97eb6550-030e-457d-8a52-f651cc7ca8b6",
   "metadata": {},
   "outputs": [
    {
     "name": "stdout",
     "output_type": "stream",
     "text": [
      "[[ 739  269]\n",
      " [  31 1052]]\n"
     ]
    }
   ],
   "source": [
    "cm = confusion_matrix(y_test, pred, labels=['FAKE', 'REAL'])\n",
    "\n",
    "print(cm)"
   ]
  },
  {
   "cell_type": "code",
   "execution_count": 45,
   "id": "02a254a3-6b3f-44e7-a8de-6804d3994cf9",
   "metadata": {},
   "outputs": [
    {
     "data": {
      "text/plain": [
       "<Axes: >"
      ]
     },
     "execution_count": 45,
     "metadata": {},
     "output_type": "execute_result"
    },
    {
     "data": {
      "image/png": "[encoded data removed]",
      "text/plain": [
       "<Figure size 640x480 with 2 Axes>"
      ]
     },
     "metadata": {},
     "output_type": "display_data"
    }
   ],
   "source": [
    "import seaborn as sns\n",
    "\n",
    "sns.heatmap(cm, annot=True)"
   ]
  },
  {
   "cell_type": "code",
   "execution_count": 46,
   "id": "738d6352-d9b9-4147-bf34-1853f5708178",
   "metadata": {},
   "outputs": [
    {
     "name": "stdout",
     "output_type": "stream",
     "text": [
      "Alpha: 0.0\n",
      "Score:  0.6150167384026781\n",
      "\n",
      "Alpha: 0.1\n",
      "Score:  0.8976566236250598\n",
      "\n",
      "Alpha: 0.2\n",
      "Score:  0.8938307030129125\n",
      "\n",
      "Alpha: 0.30000000000000004\n"
     ]
    },
    {
     "name": "stderr",
     "output_type": "stream",
     "text": [
      "C:\\Users\\DELL\\anaconda3\\Lib\\site-packages\\sklearn\\naive_bayes.py:890: RuntimeWarning: divide by zero encountered in log\n",
      "  self.feature_log_prob_ = np.log(smoothed_fc) - np.log(\n"
     ]
    },
    {
     "name": "stdout",
     "output_type": "stream",
     "text": [
      "Score:  0.8900047824007652\n",
      "\n",
      "Alpha: 0.4\n",
      "Score:  0.8857006217120995\n",
      "\n",
      "Alpha: 0.5\n",
      "Score:  0.8842659014825442\n",
      "\n",
      "Alpha: 0.6000000000000001\n",
      "Score:  0.874701099952176\n",
      "\n",
      "Alpha: 0.7000000000000001\n",
      "Score:  0.8703969392635102\n",
      "\n",
      "Alpha: 0.8\n",
      "Score:  0.8660927785748446\n",
      "\n",
      "Alpha: 0.9\n",
      "Score:  0.8589191774270684\n",
      "\n"
     ]
    }
   ],
   "source": [
    "alphas = np.arange(0, 1, 0.1)\n",
    "\n",
    "def train_and_predict(alpha):\n",
    "    nb_classifier =  MultinomialNB(alpha=alpha)\n",
    "    \n",
    "    nb_classifier.fit(tfidf_train, y_train)\n",
    "    \n",
    "    pred = nb_classifier.predict(tfidf_test)\n",
    "    \n",
    "    score = accuracy_score(y_test, pred)\n",
    "    return score\n",
    "    \n",
    "for alpha in alphas:\n",
    "    print('Alpha:', alpha)\n",
    "    print('Score: ', train_and_predict(alpha))\n",
    "    print()"
   ]
  },
  {
   "cell_type": "code",
   "execution_count": 47,
   "id": "a4196140-f717-4aa8-af3f-b399b4669b56",
   "metadata": {},
   "outputs": [
    {
     "name": "stdout",
     "output_type": "stream",
     "text": [
      "FAKE [(-11.280753302177917, '00000031'), (-11.280753302177917, '00006'), (-11.280753302177917, '000ft'), (-11.280753302177917, '001'), (-11.280753302177917, '002'), (-11.280753302177917, '003'), (-11.280753302177917, '006'), (-11.280753302177917, '008'), (-11.280753302177917, '010'), (-11.280753302177917, '013'), (-11.280753302177917, '025'), (-11.280753302177917, '027'), (-11.280753302177917, '035'), (-11.280753302177917, '037'), (-11.280753302177917, '040'), (-11.280753302177917, '044'), (-11.280753302177917, '048'), (-11.280753302177917, '066'), (-11.280753302177917, '068'), (-11.280753302177917, '075')]\n",
      "REAL [(-8.036772745824807, 'president'), (-8.022187159522364, 'american'), (-8.013319806154513, 'media'), (-8.007761560290644, 'donald'), (-8.006632122322646, 'october'), (-7.989623223030759, 'government'), (-7.929695447721539, 'like'), (-7.922750601304927, 'war'), (-7.915731838943572, 'new'), (-7.908889774759155, 'world'), (-7.885018054191407, 'just'), (-7.758145325115569, 'said'), (-7.7498037548099585, 'russia'), (-7.697669509488481, 'fbi'), (-7.604825769578616, '2016'), (-7.554879292243166, 'election'), (-7.541640806988918, 'people'), (-7.235945549755579, 'hillary'), (-6.923220068888362, 'clinton'), (-6.867377223688766, 'trump')]\n"
     ]
    }
   ],
   "source": [
    "class_labels = nb_classifier.classes_\n",
    "feature_names = tfidf_vectorizer.get_feature_names_out()\n",
    "\n",
    "feat_with_weights = sorted(zip(nb_classifier.feature_log_prob_[0], feature_names))\n",
    "\n",
    "print(class_labels[0], feat_with_weights[:20]) \n",
    "\n",
    "print(class_labels[1], feat_with_weights[-20:]) "
   ]
  },
  {
   "cell_type": "code",
   "execution_count": 48,
   "id": "38297f4b-3ad6-4e93-9674-3dcbd783ac29",
   "metadata": {},
   "outputs": [],
   "source": [
    "import flask\n",
    "from flask import Flask\n",
    "from flask_cors import CORS\n",
    "\n",
    "app = Flask(__name__)\n",
    "CORS(app)\n",
    "app = flask.Flask(__name__,template_folder='templates')"
   ]
  },
  {
   "cell_type": "code",
   "execution_count": 49,
   "id": "7b22bcfd-893b-4161-b2e3-22e3226645e6",
   "metadata": {},
   "outputs": [
    {
     "name": "stdout",
     "output_type": "stream",
     "text": [
      "Model and vectorizer have been loaded.\n"
     ]
    }
   ],
   "source": [
    "import pickle\n",
    "\n",
    "    \n",
    "with open('fake_news_model.pkl', 'rb') as handle:\n",
    "    loaded_model = pickle.load(handle)\n",
    "\n",
    "# Load the vectorizer\n",
    "with open('vectorizer.pkl', 'rb') as handle:\n",
    "    loaded_vectorizer = pickle.load(handle)\n",
    "\n",
    "print(\"Model and vectorizer have been loaded.\")\n"
   ]
  },
  {
   "cell_type": "code",
   "execution_count": 30,
   "id": "ce39bd72-395d-49a6-8faf-f2289b3dcf6c",
   "metadata": {},
   "outputs": [],
   "source": [
    "#Univariate Analysis"
   ]
  },
  {
   "cell_type": "code",
   "execution_count": null,
   "id": "c4cc8a8f-8eaf-486b-ad31-41e678f68ebf",
   "metadata": {},
   "outputs": [],
   "source": [
    "import matplotlib.pyplot as plt\n",
    "import seaborn as sns\n",
    "\n",
    "label_counts = df['label'].value_counts()\n",
    "\n",
    "plt.figure(figsize=(1, 2))\n",
    "sns.barplot(x=label_counts.index, y=label_counts.values, palette='viridis')\n",
    "plt.xlabel('News Type')\n",
    "plt.ylabel('Count')\n",
    "plt.title('Distribution of Fake and Real News')\n",
    "plt.show()"
   ]
  },
  {
   "cell_type": "code",
   "execution_count": null,
   "id": "5875c68c-96d7-4170-aeff-74b203a7e639",
   "metadata": {},
   "outputs": [],
   "source": [
    "#Bivariate Analysis"
   ]
  },
  {
   "cell_type": "code",
   "execution_count": null,
   "id": "8ae5d83d-c0ee-4e58-825d-7a8856f75e33",
   "metadata": {},
   "outputs": [],
   "source": [
    "df['text_length'] = df['text'].apply(len)\n",
    "\n",
    "plt.figure(figsize=(8, 5))\n",
    "sns.boxplot(x='label', y='text_length', data=df, palette='viridis')\n",
    "plt.xlabel('News Label')\n",
    "plt.ylabel('Text Length')\n",
    "plt.title('Bivariate Analysis: Text Length by News Label')\n",
    "plt.show()"
   ]
  },
  {
   "cell_type": "code",
   "execution_count": null,
   "id": "d96d3582-46c4-4a90-adbb-6eedb9bfd222",
   "metadata": {},
   "outputs": [],
   "source": [
    "#Multivariate Analysis"
   ]
  },
  {
   "cell_type": "code",
   "execution_count": null,
   "id": "dc1da720-4284-47e9-bf1d-44701d41784f",
   "metadata": {},
   "outputs": [],
   "source": [
    "# Ensure the model is trained and predictions are made\n",
    "nb_classifier = MultinomialNB()\n",
    "nb_classifier.fit(tfidf_train, y_train)\n",
    "pred = nb_classifier.predict(tfidf_test)  # Store predictions in `pred`\n",
    "\n",
    "# Reset index for `X_test` to align it with `pred` for DataFrame creation\n",
    "X_test = X_test.reset_index(drop=True)  \n",
    "y_test = y_test.reset_index(drop=True)  # Ensure `y_test` is also reset for alignment\n",
    "\n",
    "# Create DataFrame for analysis\n",
    "results_df = pd.DataFrame({'Text': X_test, 'Actual': y_test, 'Predicted': pred})\n",
    "results_df['Text_Length'] = results_df['Text'].apply(len)\n",
    "\n",
    "# Create scatter plot to visualize Actual vs. Predicted with Text Length\n",
    "plt.figure(figsize=(12, 8))\n",
    "sns.scatterplot(x='Actual', y='Predicted', size='Text_Length', data=results_df, hue='Predicted', sizes=(20, 200), palette='viridis')\n",
    "plt.title(\"Multivariate Analysis: Actual vs. Predicted Labels with Text Length\")\n",
    "plt.xlabel(\"Actual Label\")\n",
    "plt.ylabel(\"Predicted Label\")\n",
    "plt.legend(title='Predicted Label')\n",
    "plt.show()\n"
   ]
  },
  {
   "cell_type": "code",
   "execution_count": null,
   "id": "99b848b2-1f3e-4cf7-844a-308d3009e314",
   "metadata": {},
   "outputs": [],
   "source": [
    "import pandas as pd\n",
    "df['text_length'] = df['text'].apply(len)\n",
    "\n",
    "df['avg_word_length'] = df['text'].apply(lambda x: np.mean([len(word) for word in x.split()]))\n",
    "\n",
    "print(df.describe())"
   ]
  },
  {
   "cell_type": "code",
   "execution_count": null,
   "id": "7b9db79a-5ead-4f3c-986e-746af9bba583",
   "metadata": {},
   "outputs": [],
   "source": [
    "# Step 1: Identifying missing values\n",
    "print(\"Missing values per column:\")\n",
    "print(df.isnull().sum())\n",
    "\n",
    "# Step 2: Handling missing values\n",
    "df.fillna({'text': ' '}, inplace=True)\n",
    "\n",
    "# Drop any rows where 'label' is missing (if it exists)\n",
    "df.dropna(subset=['label'], inplace=True)\n",
    "\n",
    "# Step 3: Proceed with the rest of the analysis as before\n",
    "X = df['text']\n",
    "y = df['label']\n",
    "\n",
    "# Split dataset\n",
    "X_train, X_test, y_train, y_test = train_test_split(X, y, test_size=0.33, random_state=53)\n",
    "\n",
    "# Vectorize text data\n",
    "count_vectorizer = CountVectorizer(stop_words='english')\n",
    "count_train = count_vectorizer.fit_transform(X_train)\n",
    "count_test = count_vectorizer.transform(X_test)\n",
    "\n",
    "tfidf_vectorizer = TfidfVectorizer(stop_words='english', max_df=0.7)\n",
    "tfidf_train = tfidf_vectorizer.fit_transform(X_train)\n",
    "tfidf_test = tfidf_vectorizer.transform(X_test)\n",
    "\n",
    "print(\"CountVectorizer sample features:\", count_vectorizer.get_feature_names_out()[:10])\n",
    "print(\"TfidfVectorizer sample features:\", tfidf_vectorizer.get_feature_names_out()[:10])\n"
   ]
  },
  {
   "cell_type": "code",
   "execution_count": null,
   "id": "d63c7fa8-4df8-4a1f-b607-3018704c5c37",
   "metadata": {},
   "outputs": [],
   "source": [
    "import pandas as pd\n",
    "from sklearn.model_selection import train_test_split\n",
    "from sklearn.feature_extraction.text import TfidfVectorizer, CountVectorizer\n",
    "from sklearn.preprocessing import MinMaxScaler, StandardScaler\n",
    "from sklearn.naive_bayes import MultinomialNB\n",
    "from sklearn.metrics import accuracy_score, confusion_matrix\n",
    "import seaborn as sns\n",
    "\n",
    "# Load dataset\n",
    "df = pd.read_csv('news.csv')\n",
    "\n",
    "# Handle missing values as previously shown\n",
    "df['text'].fillna('', inplace=True)\n",
    "df.dropna(subset=['label'], inplace=True)\n",
    "\n",
    "# Prepare features and labels\n",
    "X = df['text']\n",
    "y = df['label']\n",
    "\n",
    "# Split dataset\n",
    "X_train, X_test, y_train, y_test = train_test_split(X, y, test_size=0.33, random_state=53)\n",
    "\n",
    "# Vectorize text data\n",
    "tfidf_vectorizer = TfidfVectorizer(stop_words='english', max_df=0.7)\n",
    "tfidf_train = tfidf_vectorizer.fit_transform(X_train)\n",
    "tfidf_test = tfidf_vectorizer.transform(X_test)\n",
    "\n",
    "# Convert sparse matrices to dense for scaling (optional, for illustration)\n",
    "tfidf_train_dense = tfidf_train.toarray()\n",
    "tfidf_test_dense = tfidf_test.toarray()\n",
    "\n",
    "# Step 1: Choose and apply scaling or normalization\n",
    "# For example, MinMaxScaler or StandardScaler\n",
    "scaler = MinMaxScaler()  # or use StandardScaler()\n",
    "tfidf_train_scaled = scaler.fit_transform(tfidf_train_dense)\n",
    "tfidf_test_scaled = scaler.transform(tfidf_test_dense)\n",
    "\n",
    "# Proceed with model training\n",
    "nb_classifier = MultinomialNB()\n",
    "nb_classifier.fit(tfidf_train_scaled, y_train)\n",
    "\n",
    "# Predict and evaluate\n",
    "pred = nb_classifier.predict(tfidf_test_scaled)\n",
    "score = accuracy_score(y_test, pred)\n",
    "print(\"Accuracy:\", score)\n",
    "\n",
    "# Confusion matrix\n",
    "cm = confusion_matrix(y_test, pred, labels=['FAKE', 'REAL'])\n",
    "sns.heatmap(cm, annot=True)\n"
   ]
  },
  {
   "cell_type": "code",
   "execution_count": null,
   "id": "cdccda05-26e2-49b1-b7f2-05fe86e32285",
   "metadata": {},
   "outputs": [],
   "source": [
    "# Create new features\n",
    "# 1. Text length feature\n",
    "df['text_length'] = df['text'].apply(len)\n",
    "\n",
    "# 2. Word count feature\n",
    "df['word_count'] = df['text'].apply(lambda x: len(x.split()))\n",
    "\n",
    "# 3. Average word length feature\n",
    "df['avg_word_length'] = df['text'].apply(lambda x: sum(len(word) for word in x.split()) / max(len(x.split()), 1))\n",
    "\n",
    "# Split dataset\n",
    "X = df['text']\n",
    "y = df['label']\n",
    "X_train, X_test, y_train, y_test = train_test_split(X, y, test_size=0.33, random_state=53)\n",
    "\n",
    "# Vectorize text data using Tfidf\n",
    "tfidf_vectorizer = TfidfVectorizer(stop_words='english', max_df=0.7)\n",
    "tfidf_train = tfidf_vectorizer.fit_transform(X_train)\n",
    "tfidf_test = tfidf_vectorizer.transform(X_test)\n",
    "\n",
    "# Add new features to the Tfidf vectors (dense conversion)\n",
    "X_train_dense = pd.DataFrame(tfidf_train.toarray(), columns=tfidf_vectorizer.get_feature_names_out())\n",
    "X_train_dense['text_length'] = X_train.apply(len).values\n",
    "X_train_dense['word_count'] = X_train.apply(lambda x: len(x.split())).values\n",
    "X_train_dense['avg_word_length'] = X_train.apply(lambda x: sum(len(word) for word in x.split()) / max(len(x.split()), 1)).values\n",
    "\n",
    "X_test_dense = pd.DataFrame(tfidf_test.toarray(), columns=tfidf_vectorizer.get_feature_names_out())\n",
    "X_test_dense['text_length'] = X_test.apply(len).values\n",
    "X_test_dense['word_count'] = X_test.apply(lambda x: len(x.split())).values\n",
    "X_test_dense['avg_word_length'] = X_test.apply(lambda x: sum(len(word) for word in x.split()) / max(len(x.split()), 1)).values\n",
    "\n",
    "# Save processed data and vectorizer for reuse\n",
    "processed_data = {\n",
    "    'X_train': X_train_dense,\n",
    "    'X_test': X_test_dense,\n",
    "    'y_train': y_train,\n",
    "    'y_test': y_test,\n",
    "    'vectorizer': tfidf_vectorizer\n",
    "}\n",
    "\n",
    "# Save with pickle\n",
    "with open('processed_data.pkl', 'wb') as file:\n",
    "    pickle.dump(processed_data, file)\n",
    "\n",
    "print(\"Processed data saved successfully.\")\n"
   ]
  },
  {
   "cell_type": "code",
   "execution_count": null,
   "id": "c03780e1-5b7c-45a3-9196-8956b2232fc5",
   "metadata": {},
   "outputs": [],
   "source": [
    "#Decision Tree Model"
   ]
  },
  {
   "cell_type": "code",
   "execution_count": null,
   "id": "9b8224f6-3ae7-4c95-8d44-445f251cc827",
   "metadata": {},
   "outputs": [],
   "source": [
    "from sklearn.tree import DecisionTreeClassifier\n",
    "# Initialize the Decision Tree Classifier\n",
    "dt_classifier = DecisionTreeClassifier(random_state=53)\n",
    "\n",
    "# Train the model on the training data\n",
    "dt_classifier.fit(tfidf_train, y_train)\n",
    "\n",
    "# Make predictions on the test set\n",
    "dt_pred = dt_classifier.predict(tfidf_test)\n",
    "\n",
    "# Calculate the accuracy score\n",
    "dt_score = accuracy_score(y_test, dt_pred)\n",
    "print(\"Decision Tree Model Accuracy:\", dt_score)\n",
    "\n",
    "# Display the confusion matrix\n",
    "dt_cm = confusion_matrix(y_test, dt_pred, labels=['FAKE', 'REAL'])\n",
    "print(\"Confusion Matrix:\\n\", dt_cm)\n"
   ]
  },
  {
   "cell_type": "code",
   "execution_count": null,
   "id": "0cdb32f5-5b9b-4054-aa0a-2b11d6df1cb6",
   "metadata": {},
   "outputs": [],
   "source": [
    "import seaborn as sns\n",
    "import matplotlib.pyplot as plt\n",
    "\n",
    "# Plot the confusion matrix\n",
    "sns.heatmap(dt_cm, annot=True, fmt='d', cmap='Blues', xticklabels=['FAKE', 'REAL'], yticklabels=['FAKE', 'REAL'])\n",
    "plt.xlabel(\"Predicted\")\n",
    "plt.ylabel(\"Actual\")\n",
    "plt.title(\"Decision Tree Confusion Matrix\")\n",
    "plt.show()\n"
   ]
  },
  {
   "cell_type": "code",
   "execution_count": null,
   "id": "11f2d947-c404-4403-80c4-99631ed5adc4",
   "metadata": {},
   "outputs": [],
   "source": [
    "from sklearn.model_selection import GridSearchCV\n",
    "from sklearn.tree import DecisionTreeClassifier\n",
    "\n",
    "# Define the hyperparameters and their ranges to try\n",
    "param_grid = {\n",
    "    'max_depth': [10, 20, 30, None],\n",
    "    'min_samples_split': [2, 5, 10],\n",
    "    'min_samples_leaf': [1, 2, 4]\n",
    "}\n",
    "\n",
    "# Initialize the Decision Tree Classifier\n",
    "dt_classifier = DecisionTreeClassifier(random_state=53)\n",
    "\n",
    "# Set up GridSearchCV with cross-validation\n",
    "grid_search = GridSearchCV(estimator=dt_classifier, param_grid=param_grid, cv=5, scoring='accuracy', n_jobs=-1, verbose=1)\n",
    "\n",
    "# Fit on the training data\n",
    "grid_search.fit(tfidf_train, y_train)\n",
    "\n",
    "# Best parameters from GridSearch\n",
    "print(\"Best parameters found:\", grid_search.best_params_)\n",
    "\n",
    "# Retrieve the best estimator from the grid search\n",
    "best_dt_classifier = grid_search.best_estimator_\n",
    "\n",
    "# Train the best model on the training data\n",
    "best_dt_classifier.fit(tfidf_train, y_train)\n",
    "\n",
    "# Make predictions on the test set\n",
    "dt_pred = best_dt_classifier.predict(tfidf_test)\n",
    "\n",
    "# Calculate the accuracy score\n",
    "dt_score = accuracy_score(y_test, dt_pred)\n",
    "print(\"Tuned Decision Tree Model Accuracy:\", dt_score)\n",
    "\n",
    "# Display the confusion matrix\n",
    "dt_cm = confusion_matrix(y_test, dt_pred, labels=['FAKE', 'REAL'])\n",
    "print(\"Confusion Matrix:\\n\", dt_cm)\n",
    "\n",
    "import seaborn as sns\n",
    "import matplotlib.pyplot as plt\n",
    "\n",
    "# Plot the confusion matrix\n",
    "sns.heatmap(dt_cm, annot=True, fmt='d', cmap='Blues', xticklabels=['FAKE', 'REAL'], yticklabels=['FAKE', 'REAL'])\n",
    "plt.xlabel(\"Predicted\")\n",
    "plt.ylabel(\"Actual\")\n",
    "plt.title(\"Optimized Decision Tree Confusion Matrix\")\n",
    "plt.show()"
   ]
  },
  {
   "cell_type": "code",
   "execution_count": null,
   "id": "7d30e7b7-25bf-4962-90e6-d1cec0b14059",
   "metadata": {},
   "outputs": [],
   "source": [
    "#Random Forest"
   ]
  },
  {
   "cell_type": "code",
   "execution_count": null,
   "id": "c11c3605-918c-4760-a536-4076f39e08d8",
   "metadata": {},
   "outputs": [],
   "source": [
    "from sklearn.ensemble import RandomForestClassifier\n",
    "\n",
    "# Initialize the Random Forest Classifier with 100 trees (you can adjust this number)\n",
    "rf_classifier = RandomForestClassifier(n_estimators=100, random_state=53)\n",
    "\n",
    "# Train the model on the training data\n",
    "rf_classifier.fit(tfidf_train, y_train)\n",
    "\n",
    "# Make predictions on the test set\n",
    "rf_pred = rf_classifier.predict(tfidf_test)\n",
    "\n",
    "# Calculate the accuracy score\n",
    "rf_score = accuracy_score(y_test, rf_pred)\n",
    "print(\"Random Forest Model Accuracy:\", rf_score)\n",
    "\n",
    "# Display the confusion matrix\n",
    "rf_cm = confusion_matrix(y_test, rf_pred, labels=['FAKE', 'REAL'])\n",
    "print(\"Confusion Matrix:\\n\", rf_cm)\n",
    "\n",
    "import seaborn as sns\n",
    "import matplotlib.pyplot as plt\n",
    "\n",
    "# Plot the confusion matrix\n",
    "sns.heatmap(rf_cm, annot=True, fmt='d', cmap='Blues', xticklabels=['FAKE', 'REAL'], yticklabels=['FAKE', 'REAL'])\n",
    "plt.xlabel(\"Predicted\")\n",
    "plt.ylabel(\"Actual\")\n",
    "plt.title(\"Random Forest Confusion Matrix\")\n",
    "plt.show()"
   ]
  },
  {
   "cell_type": "code",
   "execution_count": null,
   "id": "0dd2ce4e-a824-416e-bbf6-9098011ddc69",
   "metadata": {},
   "outputs": [],
   "source": [
    "#KNN"
   ]
  },
  {
   "cell_type": "code",
   "execution_count": null,
   "id": "fefcb494-3eff-4579-9f60-f9af28a6c931",
   "metadata": {},
   "outputs": [],
   "source": [
    "from sklearn.neighbors import KNeighborsClassifier\n",
    "\n",
    "# Initialize the KNN classifier with k=5 neighbors (you can adjust this number based on your data)\n",
    "knn_classifier = KNeighborsClassifier(n_neighbors=5)\n",
    "\n",
    "# Train the model on the training data\n",
    "knn_classifier.fit(tfidf_train, y_train)\n",
    "\n",
    "# Make predictions on the test set\n",
    "knn_pred = knn_classifier.predict(tfidf_test)\n",
    "\n",
    "# Calculate the accuracy score\n",
    "knn_score = accuracy_score(y_test, knn_pred)\n",
    "print(\"KNN Model Accuracy:\", knn_score)\n",
    "\n",
    "# Display the confusion matrix\n",
    "knn_cm = confusion_matrix(y_test, knn_pred, labels=['FAKE', 'REAL'])\n",
    "print(\"Confusion Matrix:\\n\", knn_cm)\n",
    "\n",
    "import seaborn as sns\n",
    "import matplotlib.pyplot as plt\n",
    "\n",
    "# Plot the confusion matrix\n",
    "sns.heatmap(knn_cm, annot=True, fmt='d', cmap='Blues', xticklabels=['FAKE', 'REAL'], yticklabels=['FAKE', 'REAL'])\n",
    "plt.xlabel(\"Predicted\")\n",
    "plt.ylabel(\"Actual\")\n",
    "plt.title(\"KNN Confusion Matrix\")\n",
    "plt.show()"
   ]
  },
  {
   "cell_type": "code",
   "execution_count": null,
   "id": "2df17420-9059-4127-a518-08abf6efe4bf",
   "metadata": {},
   "outputs": [],
   "source": [
    "#Gradient Boosting"
   ]
  },
  {
   "cell_type": "code",
   "execution_count": null,
   "id": "2a510308-b07b-4167-b407-857784462734",
   "metadata": {},
   "outputs": [],
   "source": [
    "from sklearn.ensemble import GradientBoostingClassifier\n",
    "\n",
    "# Initialize the Gradient Boosting Classifier\n",
    "gb_classifier = GradientBoostingClassifier(n_estimators=100, learning_rate=0.1, random_state=53)\n",
    "\n",
    "# Train the model on the training data\n",
    "gb_classifier.fit(tfidf_train, y_train)\n",
    "\n",
    "# Make predictions on the test set\n",
    "gb_pred = gb_classifier.predict(tfidf_test)\n",
    "\n",
    "# Calculate the accuracy score\n",
    "gb_score = accuracy_score(y_test, gb_pred)\n",
    "print(\"Gradient Boosting Model Accuracy:\", gb_score)\n",
    "\n",
    "# Display the confusion matrix\n",
    "gb_cm = confusion_matrix(y_test, gb_pred, labels=['FAKE', 'REAL'])\n",
    "print(\"Confusion Matrix:\\n\", gb_cm)\n",
    "\n",
    "import seaborn as sns\n",
    "import matplotlib.pyplot as plt\n",
    "\n",
    "# Plot the confusion matrix\n",
    "sns.heatmap(gb_cm, annot=True, fmt='d', cmap='Blues', xticklabels=['FAKE', 'REAL'], yticklabels=['FAKE', 'REAL'])\n",
    "plt.xlabel(\"Predicted\")\n",
    "plt.ylabel(\"Actual\")\n",
    "plt.title(\"Gradient Boosting Confusion Matrix\")\n",
    "plt.show()"
   ]
  },
  {
   "cell_type": "code",
   "execution_count": null,
   "id": "fb0986e8-f1f1-4e52-b0df-8082d9fb6e9c",
   "metadata": {},
   "outputs": [],
   "source": [
    "#KNN tuned hyperparameter"
   ]
  },
  {
   "cell_type": "code",
   "execution_count": null,
   "id": "95fe29f0-39dd-4567-8d25-99fa0087fc8c",
   "metadata": {},
   "outputs": [],
   "source": [
    "from sklearn.model_selection import GridSearchCV\n",
    "from sklearn.neighbors import KNeighborsClassifier\n",
    "\n",
    "# Define the parameter grid for KNN\n",
    "knn_param_grid = {\n",
    "    'n_neighbors': [3, 5, 7, 9, 11],\n",
    "    'weights': ['uniform', 'distance'],\n",
    "    'metric': ['euclidean', 'manhattan']\n",
    "}\n",
    "\n",
    "# Initialize the KNN classifier\n",
    "knn_classifier = KNeighborsClassifier()\n",
    "\n",
    "# Set up GridSearchCV\n",
    "knn_grid_search = GridSearchCV(estimator=knn_classifier, param_grid=knn_param_grid, cv=5, scoring='accuracy', n_jobs=-1)\n",
    "\n",
    "# Fit on the training data\n",
    "knn_grid_search.fit(tfidf_train, y_train)\n",
    "\n",
    "# Best parameters from GridSearch\n",
    "print(\"Best parameters found for KNN:\", knn_grid_search.best_params_)\n",
    "\n",
    "# Use the best model to make predictions\n",
    "knn_best_model = knn_grid_search.best_estimator_\n",
    "knn_pred = knn_best_model.predict(tfidf_test)\n",
    "knn_score = accuracy_score(y_test, knn_pred)\n",
    "print(\"Tuned KNN Model Accuracy:\", knn_score)\n"
   ]
  },
  {
   "cell_type": "code",
   "execution_count": null,
   "id": "d8a0a79c-6721-4e6a-85d0-156447dd7abe",
   "metadata": {},
   "outputs": [],
   "source": [
    "#Random Forest tuned hyperparameter "
   ]
  },
  {
   "cell_type": "code",
   "execution_count": null,
   "id": "1c12aae7-6765-45c9-aa30-6b93f21338aa",
   "metadata": {},
   "outputs": [],
   "source": [
    "from sklearn.model_selection import GridSearchCV  # Make sure this import is included\n",
    "from sklearn.ensemble import RandomForestClassifier\n",
    "from sklearn.metrics import accuracy_score  # Also import accuracy_score\n",
    "\n",
    "# Define the parameter grid for Random Forest\n",
    "rf_param_grid = {\n",
    "    'n_estimators': [50, 100, 200],\n",
    "    'max_depth': [None, 10, 20, 30],\n",
    "    'min_samples_split': [2, 5, 10],\n",
    "    'min_samples_leaf': [1, 2, 4]\n",
    "}\n",
    "\n",
    "# Initialize the Random Forest classifier\n",
    "rf_classifier = RandomForestClassifier(random_state=53)\n",
    "\n",
    "# Set up GridSearchCV\n",
    "rf_grid_search = GridSearchCV(estimator=rf_classifier, param_grid=rf_param_grid, cv=5, scoring='accuracy', n_jobs=-1)\n",
    "\n",
    "# Fit on the training data\n",
    "rf_grid_search.fit(tfidf_train, y_train)\n",
    "\n",
    "# Best parameters from GridSearch\n",
    "print(\"Best parameters found for Random Forest:\", rf_grid_search.best_params_)\n",
    "\n",
    "# Use the best model to make predictions\n",
    "rf_best_model = rf_grid_search.best_estimator_\n",
    "rf_pred = rf_best_model.predict(tfidf_test)\n",
    "rf_score = accuracy_score(y_test, rf_pred)\n",
    "print(\"Tuned Random Forest Model Accuracy:\", rf_score)\n"
   ]
  },
  {
   "cell_type": "code",
   "execution_count": null,
   "id": "52c1f23b-f38e-43d3-be24-a4d0d7beed70",
   "metadata": {},
   "outputs": [],
   "source": [
    "#Gradient Boosting tuned hyper parameter"
   ]
  },
  {
   "cell_type": "code",
   "execution_count": null,
   "id": "4fd1da5b-91d6-4c19-8f9e-939381c45f5b",
   "metadata": {},
   "outputs": [],
   "source": [
    "from sklearn.ensemble import GradientBoostingClassifier\n",
    "\n",
    "# Define the parameter grid for Gradient Boosting\n",
    "gb_param_grid = {\n",
    "    'n_estimators': [50, 100, 200],\n",
    "    'learning_rate': [0.01, 0.1, 0.2],\n",
    "    'max_depth': [3, 4, 5],\n",
    "    'min_samples_split': [2, 5, 10]\n",
    "}\n",
    "\n",
    "# Initialize the Gradient Boosting classifier\n",
    "gb_classifier = GradientBoostingClassifier(random_state=53)\n",
    "\n",
    "# Set up GridSearchCV\n",
    "gb_grid_search = GridSearchCV(estimator=gb_classifier, param_grid=gb_param_grid, cv=5, scoring='accuracy', n_jobs=-1)\n",
    "\n",
    "# Fit on the training data\n",
    "gb_grid_search.fit(tfidf_train, y_train)\n",
    "\n",
    "# Best parameters from GridSearch\n",
    "print(\"Best parameters found for Gradient Boosting:\", gb_grid_search.best_params_)\n",
    "\n",
    "# Use the best model to make predictions\n",
    "gb_best_model = gb_grid_search.best_estimator_\n",
    "gb_pred = gb_best_model.predict(tfidf_test)\n",
    "gb_score = accuracy_score(y_test, gb_pred)\n",
    "print(\"Tuned Gradient Boosting Model Accuracy:\", gb_score)\n"
   ]
  },
  {
   "cell_type": "code",
   "execution_count": null,
   "id": "be68862b-a377-470e-85d3-c5be32b71bc1",
   "metadata": {},
   "outputs": [],
   "source": []
  },
  {
   "cell_type": "code",
   "execution_count": null,
   "id": "1d0f08c6-5127-40c6-a0e7-b13403266840",
   "metadata": {},
   "outputs": [],
   "source": []
  },
  {
   "cell_type": "code",
   "execution_count": null,
   "id": "b84ec250-290a-4b46-83c7-aed73690cfb0",
   "metadata": {},
   "outputs": [],
   "source": []
  },
  {
   "cell_type": "code",
   "execution_count": null,
   "id": "f19887d2-9f66-4feb-936c-c1458122299a",
   "metadata": {},
   "outputs": [],
   "source": []
  },
  {
   "cell_type": "code",
   "execution_count": null,
   "id": "f74b9558-627d-4a18-9aea-096afcdcacf7",
   "metadata": {},
   "outputs": [],
   "source": []
  },
  {
   "cell_type": "code",
   "execution_count": null,
   "id": "d25bd69d-2eea-4409-95bb-b4a67c9f8a72",
   "metadata": {},
   "outputs": [],
   "source": []
  },
  {
   "cell_type": "code",
   "execution_count": null,
   "id": "77f2048b-a6ce-42cc-853d-1e91879334fc",
   "metadata": {},
   "outputs": [],
   "source": []
  }
 ],
 "metadata": {
  "kernelspec": {
   "display_name": "Python 3 (ipykernel)",
   "language": "python",
   "name": "python3"
  },
  "language_info": {
   "codemirror_mode": {
    "name": "ipython",
    "version": 3
   },
   "file_extension": ".py",
   "mimetype": "text/x-python",
   "name": "python",
   "nbconvert_exporter": "python",
   "pygments_lexer": "ipython3",
   "version": "3.12.4"
  }
 },
 "nbformat": 4,
 "nbformat_minor": 5
}
