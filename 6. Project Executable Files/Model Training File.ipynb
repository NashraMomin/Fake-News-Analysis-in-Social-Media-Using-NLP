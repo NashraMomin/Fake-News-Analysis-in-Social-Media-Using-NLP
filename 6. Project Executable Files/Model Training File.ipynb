{
 "cells": [
  {
   "cell_type": "code",
   "execution_count": 3,
   "id": "ec211509-1f4c-4e28-b33b-3e29cebacbee",
   "metadata": {},
   "outputs": [],
   "source": [
    "import pandas as pd\n",
    "import numpy as np\n",
    "from sklearn.feature_extraction.text import CountVectorizer, TfidfVectorizer\n",
    "from sklearn.model_selection import train_test_split\n",
    "from sklearn.naive_bayes import MultinomialNB\n",
    "from sklearn.metrics import accuracy_score, confusion_matrix\n",
    "import seaborn as sns\n",
    "import pickle"
   ]
  },
  {
   "cell_type": "code",
   "execution_count": 4,
   "id": "0e5d4659-ba04-4352-adc3-7c137153498e",
   "metadata": {},
   "outputs": [],
   "source": [
    "df = pd.read_csv('news.csv')  # Replace with your dataset path\n"
   ]
  },
  {
   "cell_type": "code",
   "execution_count": 5,
   "id": "bb16b012-91ed-4215-b91f-03b7c44f5cfc",
   "metadata": {},
   "outputs": [],
   "source": [
    "X = df['text']  # Features (text data)\n",
    "y = df['label']  # Labels (FAKE or REAL)"
   ]
  },
  {
   "cell_type": "code",
   "execution_count": 4,
   "id": "774d06e1-2683-45e4-ad74-2e1ca77ad2d0",
   "metadata": {},
   "outputs": [],
   "source": [
    "X_train, X_test, y_train, y_test = train_test_split(X, y, test_size=0.33, random_state=53)\n"
   ]
  },
  {
   "cell_type": "code",
   "execution_count": 5,
   "id": "49f6ae5d-2e94-47dd-8e8c-238308157525",
   "metadata": {},
   "outputs": [],
   "source": [
    "count_vectorizer = CountVectorizer(stop_words='english')\n",
    "count_train = count_vectorizer.fit_transform(X_train)  # Fit and transform training data\n",
    "count_test = count_vectorizer.transform(X_test)  # Transform test data\n"
   ]
  },
  {
   "cell_type": "code",
   "execution_count": 6,
   "id": "dd3049c2-3e4a-4b4f-acdd-1deef776d721",
   "metadata": {},
   "outputs": [],
   "source": [
    "tfidf_vectorizer = TfidfVectorizer(stop_words='english', max_df=0.7)\n",
    "tfidf_train = tfidf_vectorizer.fit_transform(X_train)  # Fit and transform training data\n",
    "tfidf_test = tfidf_vectorizer.transform(X_test)  # Transform test data\n"
   ]
  },
  {
   "cell_type": "code",
   "execution_count": 7,
   "id": "21eaefab-32b8-4271-b077-f12b1e6a8829",
   "metadata": {},
   "outputs": [],
   "source": [
    "nb_classifier = MultinomialNB()\n",
    "nb_classifier.fit(count_train, y_train)  # Fit the model\n",
    "pred = nb_classifier.predict(count_test)  # Predict on test data\n"
   ]
  },
  {
   "cell_type": "code",
   "execution_count": 8,
   "id": "c4b1948f-972d-4993-90af-da25f1602c13",
   "metadata": {},
   "outputs": [],
   "source": [
    "nb_classifier.fit(tfidf_train, y_train)  # Fit the model\n",
    "pred = nb_classifier.predict(tfidf_test)  # Predict on test data\n"
   ]
  },
  {
   "cell_type": "code",
   "execution_count": 9,
   "id": "3c3c00b3-d179-43ca-b9ab-472007b53ab4",
   "metadata": {},
   "outputs": [
    {
     "name": "stdout",
     "output_type": "stream",
     "text": [
      "0.8565279770444764\n"
     ]
    }
   ],
   "source": [
    "score = accuracy_score(y_test, pred)  # Calculate accuracy\n",
    "print(score)\n"
   ]
  },
  {
   "cell_type": "code",
   "execution_count": 10,
   "id": "9c937992-0933-4956-9ee1-8249fbe48fe4",
   "metadata": {},
   "outputs": [
    {
     "data": {
      "text/plain": [
       "<Axes: >"
      ]
     },
     "execution_count": 10,
     "metadata": {},
     "output_type": "execute_result"
    },
    {
     "data": {
      "image/png": "[encoded data removed]",
      "text/plain": [
       "<Figure size 640x480 with 2 Axes>"
      ]
     },
     "metadata": {},
     "output_type": "display_data"
    }
   ],
   "source": [
    "cm = confusion_matrix(y_test, pred, labels=['FAKE', 'REAL'])  # Confusion matrix\n",
    "sns.heatmap(cm, annot=True)  # Visualizing the confusion matrix\n"
   ]
  },
  {
   "cell_type": "code",
   "execution_count": 11,
   "id": "40329078-b77b-4821-a3c6-f9c0024352c0",
   "metadata": {},
   "outputs": [
    {
     "name": "stderr",
     "output_type": "stream",
     "text": [
      "C:\\Users\\DELL\\anaconda3\\Lib\\site-packages\\sklearn\\naive_bayes.py:890: RuntimeWarning: divide by zero encountered in log\n",
      "  self.feature_log_prob_ = np.log(smoothed_fc) - np.log(\n"
     ]
    },
    {
     "name": "stdout",
     "output_type": "stream",
     "text": [
      "Alpha: 0.0 Score: 0.6150167384026781\n",
      "Alpha: 0.1 Score: 0.8976566236250598\n",
      "Alpha: 0.2 Score: 0.8938307030129125\n",
      "Alpha: 0.30000000000000004 Score: 0.8900047824007652\n",
      "Alpha: 0.4 Score: 0.8857006217120995\n",
      "Alpha: 0.5 Score: 0.8842659014825442\n",
      "Alpha: 0.6000000000000001 Score: 0.874701099952176\n",
      "Alpha: 0.7000000000000001 Score: 0.8703969392635102\n",
      "Alpha: 0.8 Score: 0.8660927785748446\n",
      "Alpha: 0.9 Score: 0.8589191774270684\n"
     ]
    }
   ],
   "source": [
    "alphas = np.arange(0, 1, 0.1)\n",
    "for alpha in alphas:\n",
    "    nb_classifier = MultinomialNB(alpha=alpha)  # Create model with different alpha\n",
    "    nb_classifier.fit(tfidf_train, y_train)  # Fit the model\n",
    "    pred = nb_classifier.predict(tfidf_test)  # Predict\n",
    "    score = accuracy_score(y_test, pred)  # Calculate accuracy\n",
    "    print('Alpha:', alpha, 'Score:', score)  # Print results\n"
   ]
  },
  {
   "cell_type": "code",
   "execution_count": 12,
   "id": "891ff948-198a-4bbd-a7cb-4a6a6a199d93",
   "metadata": {},
   "outputs": [],
   "source": [
    "with open('fake_news_model.pkl', 'wb') as handle:\n",
    "    pickle.dump(nb_classifier, handle)  # Save the trained model\n",
    "\n",
    "with open('vectorizer.pkl', 'wb') as handle:\n",
    "    pickle.dump(tfidf_vectorizer, handle)  # Save the vectorizer\n"
   ]
  },
  {
   "cell_type": "code",
   "execution_count": null,
   "id": "df420aa6-3c1b-4bcc-b959-7f5efaf5670b",
   "metadata": {},
   "outputs": [],
   "source": []
  }
 ],
 "metadata": {
  "kernelspec": {
   "display_name": "Python 3 (ipykernel)",
   "language": "python",
   "name": "python3"
  },
  "language_info": {
   "codemirror_mode": {
    "name": "ipython",
    "version": 3
   },
   "file_extension": ".py",
   "mimetype": "text/x-python",
   "name": "python",
   "nbconvert_exporter": "python",
   "pygments_lexer": "ipython3",
   "version": "3.12.4"
  }
 },
 "nbformat": 4,
 "nbformat_minor": 5
}
