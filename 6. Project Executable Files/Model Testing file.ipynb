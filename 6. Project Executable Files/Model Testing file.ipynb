{
 "cells": [
  {
   "cell_type": "code",
   "execution_count": null,
   "id": "991e4992-71ce-4a5e-be3a-c97a268a87b1",
   "metadata": {},
   "outputs": [],
   "source": [
    "#These are just the testing code. The full code is in the flask folder\n"
   ]
  },
  {
   "cell_type": "code",
   "execution_count": null,
   "id": "f34f1a55-b555-4fee-852f-2f2287a90349",
   "metadata": {},
   "outputs": [],
   "source": [
    "import pandas as pd\n",
    "import numpy as np\n",
    "from sklearn.feature_extraction.text import CountVectorizer, TfidfVectorizer\n",
    "from sklearn.model_selection import train_test_split\n",
    "from sklearn.naive_bayes import MultinomialNB\n",
    "from sklearn.metrics import accuracy_score, confusion_matrix\n",
    "import seaborn as sns\n",
    "import pickle\n"
   ]
  },
  {
   "cell_type": "code",
   "execution_count": null,
   "id": "74cac832-adfe-4b0e-9fec-17ff4355454b",
   "metadata": {},
   "outputs": [],
   "source": [
    "df = pd.read_csv('news.csv')  # Replace with your dataset path\n"
   ]
  },
  {
   "cell_type": "code",
   "execution_count": null,
   "id": "1c8ffdd0-c1f9-4f13-8892-6809c9243ec3",
   "metadata": {},
   "outputs": [],
   "source": [
    "X = df['text']  # Features (text data)\n",
    "y = df['label']  # Labels (FAKE or REAL)\n"
   ]
  },
  {
   "cell_type": "code",
   "execution_count": null,
   "id": "d5d3456f-0fe7-486e-9adf-1c88c9e1e742",
   "metadata": {},
   "outputs": [],
   "source": [
    "pred = nb_classifier.predict(count_test)  # Predict on test data (Count Vectorizer)"
   ]
  },
  {
   "cell_type": "code",
   "execution_count": null,
   "id": "3bdf1391-b147-404a-89ce-aec5b8f980c9",
   "metadata": {},
   "outputs": [],
   "source": [
    "score = accuracy_score(y_test, pred)  # Calculate accuracy\n",
    "print(score)  # Print accuracy score\n"
   ]
  },
  {
   "cell_type": "code",
   "execution_count": null,
   "id": "5fabe296-333e-4070-b516-657e4eac611a",
   "metadata": {},
   "outputs": [],
   "source": [
    "cm = confusion_matrix(y_test, pred, labels=['FAKE', 'REAL'])  # Create confusion matrix\n",
    "print(cm)  # Print confusion matrix\n",
    "sns.heatmap(cm, annot=True)  # Visualize confusion matrix as a heatmap\n"
   ]
  },
  {
   "cell_type": "code",
   "execution_count": null,
   "id": "60ade21d-ac5a-4c3f-8b03-7dc6f79e886f",
   "metadata": {},
   "outputs": [],
   "source": [
    "pred = nb_classifier.predict(tfidf_test)  # Predict on test data (TF-IDF Vectorizer)\n"
   ]
  },
  {
   "cell_type": "code",
   "execution_count": null,
   "id": "2e27d870-ef98-4553-983e-0fc8c8d3e750",
   "metadata": {},
   "outputs": [],
   "source": [
    "score = accuracy_score(y_test, pred)  # Calculate accuracy\n",
    "print(score)  # Print accuracy score\n"
   ]
  },
  {
   "cell_type": "code",
   "execution_count": null,
   "id": "71ac6f15-dbdf-40cb-accf-baee5a511ca8",
   "metadata": {},
   "outputs": [],
   "source": [
    "cm = confusion_matrix(y_test, pred, labels=['FAKE', 'REAL'])  # Create confusion matrix\n",
    "print(cm)  # Print confusion matrix\n",
    "sns.heatmap(cm, annot=True)  # Visualize confusion matrix as a heatmap\n"
   ]
  },
  {
   "cell_type": "code",
   "execution_count": null,
   "id": "0fcaf2a2-7e4c-4e69-94c0-172ff06a7d6f",
   "metadata": {},
   "outputs": [],
   "source": [
    "for alpha in alphas:\n",
    "    nb_classifier = MultinomialNB(alpha=alpha)  # Create model with different alpha\n",
    "    nb_classifier.fit(tfidf_train, y_train)  # Fit the model\n",
    "    pred = nb_classifier.predict(tfidf_test)  # Predict\n",
    "    score = accuracy_score(y_test, pred)  # Calculate accuracy\n",
    "    print('Alpha:', alpha, 'Score:', score)  # Print results\n"
   ]
  },
  {
   "cell_type": "code",
   "execution_count": null,
   "id": "bc0a4781-29e3-41c3-a6bd-f47c96a18615",
   "metadata": {},
   "outputs": [],
   "source": []
  }
 ],
 "metadata": {
  "kernelspec": {
   "display_name": "Python 3 (ipykernel)",
   "language": "python",
   "name": "python3"
  },
  "language_info": {
   "codemirror_mode": {
    "name": "ipython",
    "version": 3
   },
   "file_extension": ".py",
   "mimetype": "text/x-python",
   "name": "python",
   "nbconvert_exporter": "python",
   "pygments_lexer": "ipython3",
   "version": "3.12.4"
  }
 },
 "nbformat": 4,
 "nbformat_minor": 5
}
